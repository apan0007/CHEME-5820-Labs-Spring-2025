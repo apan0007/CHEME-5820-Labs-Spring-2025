{
 "cells": [
  {
   "cell_type": "markdown",
   "id": "98014e43-2d68-406c-ab17-4ffe15a40673",
   "metadata": {},
   "source": [
    "# L6b: Implementation of the Weighted Majority Algorithm for Online Learning\n",
    "In this lab, we will implement the Weighted Majority Algorithm online learning algorithm for a daily growth rate guessing game. Before we get started, take a few minutes to review the Weighted Majority Algorithm.\n",
    "\n",
    "## Weighted Majority Algorithm\n",
    "Let's start with the Weighted Majority Algorithm developed by Littlestone and Warmuth in 1994:\n",
    "* [Littlestone, N., & Warmuth, M. K. (1994). The weighted majority algorithm. Information and Computation, 108(2), 212-261.](https://www.sciencedirect.com/science/article/pii/S0890540184710091)\n",
    "\n",
    "We illustrate this approach with an example found in [Arora et al., 2005, Princeton](https://github.com/varnerlab/CHEME-5820-Lectures-Spring-2025/blob/main/lectures/week-6/L6a/docs/Arora-MWsurvey-CS-Princeton.pdf), which is a _prediction from expert advice_ problem. Let's take a look at the framing: \n",
    "\n",
    "* __Game__: To predict the daily stock price movement as either `up` or `down,` we use a binary outcome encoded as `{1 | -1}`. Each morning, we forecast the daily price direction, and by market close, we learn the actual movement. If we predict incorrectly, we lose a dollar. Our aim is to minimize losses. Our predictions are informed by the forecasts of $n$ experts, whose predictions may be correlated and accurate or not.\n",
    "* __Goal__: The weighted majority algorithm limits losses to about the best expert without knowing who that is until the end of the sequence. Each day, it requires decisions. The algorithm maintains a weighting of experts, initially giving them equal weight. Over time, those making better predictions gain increased weight proportionately.\n",
    "\n",
    "We play this game between an omniscient _adversary_ (nature, i.e., the market) and an _aggregator_ (us) who $n$ experts advise; we select $n$ as odd to avoid ties. The game proceeds in $T$ rounds $t = 1, 2, \\ldots, T$. During each round the aggregator (us) makes a _binary_ decision $y_t \\in \\{-1, 1\\}$, and the adversary (market) reveals the true outcome $y_t$. Initially, the experts have weights $\\left\\{w_{i}^{(1)} = 1 \\mid i = 1, 2, \\ldots, n\\right\\}$. \n",
    "\n",
    "### Algorithm\n",
    "For each round $t=1,2,\\dots,T$:\n",
    "1. The aggregator (us) makes a prediction $y_t \\in \\{-1, 1\\}$ based on the weighted majority of the experts' predictions. If the total weight of all experts predicting `1` at time $t$ is $w^{(t)}\\geq\\sum_{i}w_{i}^{(t)}/2$, then the aggregator predicts `1`, otherwise it predicts `-1`.\n",
    "2. The adversary (market) reveals the actual outcome $y_t \\in \\{-1, 1\\}$.\n",
    "3. We decrease the weights of the experts who predicted incorrectly. For each expert $i$ who predicted incorrectly, we update the weight: $w_{i}^{(t+1)} = w_{i}^{(t)}(1-\\epsilon)$, where $0<\\epsilon\\leq{1/2}$ is a learning rate parameter.\n",
    "\n",
    "__Theorem__: The weighted majority algorithm has the following theoretical guarantee (which bounds the number of mistakes the aggregator makes). Let $m_{i}^{(t)}$ be the number of mistakes made by expert $i$ up to time $t$ and $m^{(t)}$ be the total number of mistakes made by the aggregator (us). Then, for every expert $i$ and the aggregator, we have:\n",
    "$$\n",
    "\\begin{align*}\n",
    "m^{(t)} \\leq \\frac{2\\ln(n)}{\\epsilon} + 2\\left(1+\\epsilon\\right)m_{i}^{(t)}\n",
    "\\end{align*}\n",
    "$$\n",
    "\n",
    "### Tasks\n",
    "Before we start, divide into teams and familiarize yourself with the lab. Then, execute the `Run All Cells` command to check if you (or your neighbor) have any code or setup issues. Code issues, then raise your hands - and let's get those fixed!\n",
    "* __Task 1: Setup, Data, Constants (10 min)__: Let's take 10 minutes to explore how we will generate the datasets we'll explore today. We'll work through how to generate linearly separable and non-linearly separable datasets."
   ]
  },
  {
   "cell_type": "markdown",
   "id": "32a7c5a9-33fe-4414-999e-10756ecc4017",
   "metadata": {},
   "source": [
    "## Task 1: Setup, Data, and Prerequisites\n",
    "We set up the computational environment by including the `Include.jl` file, loading any needed resources, such as sample datasets, and setting up any required constants. \n",
    "* The `Include.jl` file also loads external packages, various functions that we will use in the exercise, and custom types to model the components of our problem. It checks for a `Manifest.toml` file; if it finds one, packages are loaded. Other packages are downloaded and then loaded."
   ]
  },
  {
   "cell_type": "code",
   "execution_count": 3,
   "id": "eb0d0fdd-7c9f-4133-8b7a-c48fde08d1f2",
   "metadata": {},
   "outputs": [],
   "source": [
    "include(\"Include.jl\");"
   ]
  },
  {
   "cell_type": "markdown",
   "id": "598b3c24-2999-46e4-81bd-d4f5fdb90680",
   "metadata": {},
   "source": [
    "### Data\n",
    "We gathered a daily open-high-low-close `dataset` for each firm in the [S&P500](https://en.wikipedia.org/wiki/S%26P_500) from `01-03-2014` until `02-07-2025`, along with data for a few exchange-traded funds and volatility products during that time. We load the `orignal_dataset` by calling the `MyMarketDataSet()` function:"
   ]
  },
  {
   "cell_type": "code",
   "execution_count": 5,
   "id": "16d23ad9-cbb2-4fe1-be8c-e141f15d9f96",
   "metadata": {},
   "outputs": [],
   "source": [
    "original_dataset = MyMarketDataSet() |> x-> x[\"dataset\"];"
   ]
  },
  {
   "cell_type": "markdown",
   "id": "701dc726-0386-40ba-83b4-6d0ab6e0385d",
   "metadata": {},
   "source": [
    "__Clean the data__: Not all tickers in our dataset have the maximum number of trading days for various reasons, e.g., acquisition or de-listing events. Let's collect only those tickers with the maximum number of trading days.\n",
    "\n",
    "* First, let's compute the number of records for a company that we know has a maximum value, e.g., `AAPL`, and save that value in the `maximum_number_trading_days` variable:"
   ]
  },
  {
   "cell_type": "code",
   "execution_count": 7,
   "id": "4fd8abcf-3f31-49ed-a068-60752e473330",
   "metadata": {},
   "outputs": [
    {
     "data": {
      "text/plain": [
       "2792"
      ]
     },
     "execution_count": 7,
     "metadata": {},
     "output_type": "execute_result"
    }
   ],
   "source": [
    "maximum_number_trading_days = original_dataset[\"AAPL\"] |> nrow"
   ]
  },
  {
   "cell_type": "markdown",
   "id": "63284b1b-6114-4095-9587-ce85ca8594d0",
   "metadata": {},
   "source": [
    "Now, lets iterate through our data and collect only those tickers that have `maximum_number_trading_days` records. Save that data in the `dataset::Dict{String,DataFrame}` variable:"
   ]
  },
  {
   "cell_type": "code",
   "execution_count": 9,
   "id": "0fd922e9-0f8f-4c0b-b559-c9b1d80e4744",
   "metadata": {},
   "outputs": [],
   "source": [
    "dataset = let\n",
    "\n",
    "    dataset = Dict{String,DataFrame}();\n",
    "    for (ticker,data) ∈ original_dataset\n",
    "        if (nrow(data) == maximum_number_trading_days)\n",
    "            dataset[ticker] = data;\n",
    "        end\n",
    "    end\n",
    "    dataset\n",
    "end;"
   ]
  },
  {
   "cell_type": "markdown",
   "id": "d3bb6f1b-38f5-4fca-877f-fa7e8581e160",
   "metadata": {},
   "source": [
    "Let's get a list of firms in the cleaned up `dataset` and save it in the `all_tickers` array. We sort the firms alphabetically from `A` to `Z`:"
   ]
  },
  {
   "cell_type": "code",
   "execution_count": 11,
   "id": "67b2446a-789a-40a1-991d-4cc822eea7fe",
   "metadata": {},
   "outputs": [],
   "source": [
    "list_of_all_tickers = keys(dataset) |> collect |> sort;"
   ]
  },
  {
   "cell_type": "markdown",
   "id": "a7df88f8-c091-48ac-959f-66afe3cf4c75",
   "metadata": {},
   "source": [
    "Compute the expected (annualized) excess log growth rate by passing the `dataset` and the entire list of firms we have in the dataset to the [log_growth_matrix(...) method](src/Compute.jl). The log growth rate between time period $j-1$ to $j$, e.g., yesterday to today is defined as:\n",
    "$$\n",
    "\\begin{equation}\n",
    "\\mu_{j,j-1} = \\left(\\frac{1}{\\Delta{t}}\\right)\\ln\\left(\\frac{S_{j}}{S_{j-1}}\\right)\n",
    "\\end{equation}\n",
    "$$\n",
    "where $\\Delta{t}$ denotes the period time step, and $S_{j}$ denote share price in period $j$.\n",
    "* The log growth rates are stored in the `D::Array{Float64,2}` variable, a $T-1\\times{N}$ array of log return values. Each row of the `D` matrix corresponds to a time value, while each column corresponds to a firm."
   ]
  },
  {
   "cell_type": "code",
   "execution_count": 13,
   "id": "1881cfb8-6dd4-492f-b8eb-31677d42d2c9",
   "metadata": {},
   "outputs": [],
   "source": [
    "D = let\n",
    "\n",
    "    # setup some constants -\n",
    "    Δt = (1/252); # 1-trading day in units of years\n",
    "    risk_free_rate = 0.0415; # inferred cc risk-free rate\n",
    "\n",
    "    # compute\n",
    "    μ = log_growth_matrix(dataset, list_of_all_tickers, Δt = Δt, \n",
    "        risk_free_rate = risk_free_rate);\n",
    "\n",
    "    μ # return to the caller\n",
    "end;"
   ]
  },
  {
   "cell_type": "markdown",
   "id": "44157a1b-d628-495c-83ee-c91362a11528",
   "metadata": {},
   "source": [
    "Next, let's [z-score center](https://en.wikipedia.org/wiki/Feature_scaling) the continous feature data. \n",
    "* In [z-score feature scaling](https://en.wikipedia.org/wiki/Feature_scaling), we subtract off the mean of each feature and then divide by the standard deviation, i.e., $x^{\\prime} = (x - \\mu)/\\sigma$ where $x$ is the unscaled data, and $x^{\\prime}$ is the scaled data. Under this scaling regime, $x^{\\prime}\\leq{0}$ will be values that are less than or equal to the mean value $\\mu$, while $x^{\\prime}>0$ indicate values that are greater than the mean.\n",
    "\n",
    "We save the z-score centered growth data in the `D̄::Array{Float64,2}` variable:"
   ]
  },
  {
   "cell_type": "code",
   "execution_count": 15,
   "id": "9451668f-a62a-4165-92b9-3d290b39ffd3",
   "metadata": {},
   "outputs": [
    {
     "data": {
      "text/plain": [
       "2791×424 Matrix{Float64}:\n",
       " -0.270236    0.875241   -0.51285    …  -0.172603    0.0340086  -0.326599\n",
       "  0.735235    0.153683    0.270667       0.365351   -0.156963    0.235764\n",
       "  0.870466    0.123779    0.0157621     -0.0117454   0.206118   -0.771629\n",
       "  0.144598    2.39589     0.325758       0.018899    0.564557   -0.146732\n",
       "  0.462985    0.362567    0.624783       0.0834006  -0.405704    1.20044\n",
       "  0.135725   -0.543745   -0.130921   …  -0.192559   -0.35855    -0.922629\n",
       "  0.747335   -0.0617295   0.905321       0.29608    -0.334345   -0.35041\n",
       "  0.52576     0.145651    0.365443       0.279399    0.799572   -0.0816769\n",
       "  0.326013    0.237151    0.0344876     -0.312346   -0.399924    0.363208\n",
       "  0.30077     0.854261    0.186164      -0.316981    0.513302   -0.448288\n",
       " -0.150497    0.679814    0.199977   …  -0.0918959   1.72074    -0.892273\n",
       "  0.339601    0.505721   -0.416694       0.0999343   0.812754    0.0533844\n",
       " -1.32135     0.197223   -0.539546      -0.432322   -1.22161     0.354251\n",
       "  ⋮                                  ⋱                          \n",
       " -0.420465   -2.97196     0.850221      -0.337995   -0.141436   -0.248732\n",
       " -0.0395886  -0.216563    0.683655   …  -0.471825    0.380037    0.697634\n",
       " -0.488413    0.439841    0.83359       -1.76867    -0.495274    1.69459\n",
       "  0.221058   -0.0251536  -0.23056        0.0508272  -0.325489   -0.246398\n",
       " -1.73696    -0.0879981   0.18514       -0.109855    0.137812   -0.611184\n",
       "  1.68952    -0.433526    0.903164      -0.532549    0.475246    1.19216\n",
       "  0.361025    0.205188   -1.04797    …  -0.18947    -0.328673   -0.759341\n",
       " -1.50238    -0.932005   -0.763702      -1.29046    -1.37594     0.118333\n",
       " -0.877171    0.488268    1.61299       -0.011034    0.640157    0.0649832\n",
       "  0.368773    0.27262    -0.281018       0.260768    0.15311     1.18247\n",
       " -0.20762     0.262206    0.0101682     -1.02258     0.608967   -0.0053034\n",
       " -0.775666    0.374822   -2.62881    …  -1.92793    -0.593067   -1.25676"
      ]
     },
     "execution_count": 15,
     "metadata": {},
     "output_type": "execute_result"
    }
   ],
   "source": [
    "D̄ = let\n",
    "\n",
    "    # setup -\n",
    "    number_of_examples = size(D,1);\n",
    "\n",
    "    D̄ = copy(D);\n",
    "    for j ∈ eachindex(list_of_all_tickers)\n",
    "        μ = mean(D[:,j]); # compute the mean\n",
    "        σ = std(D[:,j]); # compute std\n",
    "\n",
    "        # rescale -\n",
    "        for k ∈ 1:number_of_examples\n",
    "            D̄[k,j] = (D[k,j] - μ)/σ;\n",
    "        end\n",
    "    end\n",
    "    \n",
    "    D̄\n",
    "end"
   ]
  },
  {
   "cell_type": "markdown",
   "id": "51392542-26bb-4c0e-80cc-f916a1e45382",
   "metadata": {},
   "source": [
    "Next, let's set up a ticker map that holds the index of each ticker value. We'll save this in the `tickerindexmap::Dict{String,Int}` dictionary:"
   ]
  },
  {
   "cell_type": "code",
   "execution_count": 17,
   "id": "665cab5d-4947-4405-892e-a8f3aa8f13aa",
   "metadata": {},
   "outputs": [
    {
     "data": {
      "text/plain": [
       "Dict{String, Int64} with 424 entries:\n",
       "  \"EMR\"  => 132\n",
       "  \"CTAS\" => 101\n",
       "  \"HSIC\" => 187\n",
       "  \"KIM\"  => 217\n",
       "  \"PLD\"  => 310\n",
       "  \"IEX\"  => 194\n",
       "  \"BAC\"  => 48\n",
       "  \"CBOE\" => 69\n",
       "  \"EXR\"  => 144\n",
       "  \"NCLH\" => 271\n",
       "  \"CVS\"  => 103\n",
       "  \"DRI\"  => 119\n",
       "  \"DTE\"  => 120\n",
       "  \"ZION\" => 423\n",
       "  \"AVY\"  => 43\n",
       "  \"EW\"   => 140\n",
       "  \"EA\"   => 124\n",
       "  \"NWSA\" => 289\n",
       "  \"CAG\"  => 65\n",
       "  \"GILD\" => 161\n",
       "  \"FCX\"  => 148\n",
       "  \"GPC\"  => 168\n",
       "  \"UNP\"  => 390\n",
       "  \"CDW\"  => 73\n",
       "  \"SBUX\" => 339\n",
       "  ⋮      => ⋮"
      ]
     },
     "execution_count": 17,
     "metadata": {},
     "output_type": "execute_result"
    }
   ],
   "source": [
    "tickerindexmap = let\n",
    "\n",
    "    # initialize -\n",
    "    tickerindexmap = Dict{String,Int}();\n",
    "    for i ∈ eachindex(list_of_all_tickers)\n",
    "        tickerindexmap[list_of_all_tickers[i]] = i;\n",
    "    end\n",
    "\n",
    "    tickerindexmap;\n",
    "end"
   ]
  },
  {
   "cell_type": "code",
   "execution_count": 18,
   "id": "63bf60fd-2b94-4cb0-a433-9058dcd1f379",
   "metadata": {},
   "outputs": [],
   "source": [
    "distribution_model_dictionary = let\n",
    "\n",
    "    distribution_model_dictionary = Dict{String,Laplace}();\n",
    "    for j ∈ eachindex(list_of_all_tickers)\n",
    "        ticker = list_of_all_tickers[j];\n",
    "        distribution_model_dictionary[ticker] = fit_mle(Laplace, D[:,j]);\n",
    "    end\n",
    "    distribution_model_dictionary;\n",
    "end;"
   ]
  },
  {
   "cell_type": "markdown",
   "id": "1bf3eda8-67a5-43e3-a2c9-04817bca07d7",
   "metadata": {},
   "source": [
    "## Task 2: Implement the Weighted Majority Algorithm\n",
    "In this task, we'll implement a data-driven expert strategy in which we use (potentially) time-delayed growth rate data from other tickers to predict whether or not the [SPY 500 ETF `SPY`](https://en.wikipedia.org/wiki/SPDR_S%26P_500_ETF_Trust) will go up or down during a trading day.\n",
    "\n",
    "First, we'll define the `expert` and `adversary` functions."
   ]
  },
  {
   "cell_type": "code",
   "execution_count": 20,
   "id": "72d792b3-8f1b-4417-96a1-bf78876ea566",
   "metadata": {
    "jupyter": {
     "source_hidden": true
    }
   },
   "outputs": [],
   "source": [
    "# function expert(index::Int, time::Int, data::Array{Float64,2})::Int\n",
    "\n",
    "#     # expert 1: QQQ\n",
    "#     # expert 2: NVDA\n",
    "#     # expert 3: AMD\n",
    "#     # expert 4: AAPL\n",
    "#     # expert 5: NSFT\n",
    "#     d = nothing;\n",
    "#     if (index == 1)\n",
    "#         d = distribution_model_dictionary[\"QQQ\"];\n",
    "#     elseif (index == 2)\n",
    "#         d = distribution_model_dictionary[\"NVDA\"];\n",
    "#     elseif (index == 3)\n",
    "#         d = distribution_model_dictionary[\"AMD\"];\n",
    "#     end\n",
    "#     return rand(d) |> sign;\n",
    "# end;"
   ]
  },
  {
   "cell_type": "markdown",
   "id": "2ef48f4c-55b8-418b-8b13-fa403a533eee",
   "metadata": {},
   "source": [
    "* The `expert(index::Int, time::Int, data::Array{Float64,2})::Int` function takes the `index::Int` of the expert, the current time step `t::Int` and the market `data::Array{Float64,2})` array which is the _actual_ growth rate data `D̄`. This function returns the _prediction_ from expert $i$, namely $y_{t}^{(i)}$."
   ]
  },
  {
   "cell_type": "code",
   "execution_count": 22,
   "id": "636eb311-46b6-475d-aff1-37d0d22de8cc",
   "metadata": {},
   "outputs": [],
   "source": [
    "function expert(index::Int, time::Int, data::Array{Float64,2})::Int\n",
    "\n",
    "    # expert 1: QQQ\n",
    "    # expert 2: NVDA\n",
    "    # expert 3: AMD\n",
    "    # expert 4: AAPL\n",
    "    # expert 5: NSFT\n",
    "    i = nothing;\n",
    "    if (index == 1)\n",
    "        i = tickerindexmap[\"QQQ\"];\n",
    "    elseif (index == 2)\n",
    "        i = tickerindexmap[\"NVDA\"];\n",
    "    elseif (index == 3)\n",
    "        i = tickerindexmap[\"WMT\"];\n",
    "    end\n",
    "    return data[time,i] |> sign;\n",
    "end;"
   ]
  },
  {
   "cell_type": "markdown",
   "id": "f249a176-3316-4dfc-82e2-5f0e44fa4699",
   "metadata": {},
   "source": [
    "* The `adversary(time::Int, data::Array{Float64,2})::Int` function takes the current time step `t::Int` and the market `data::Array{Float64,2})` array and returns the true answer $y_{t}$ for the `SPY` growth rate for time $t$:"
   ]
  },
  {
   "cell_type": "code",
   "execution_count": 24,
   "id": "9bc9e889-2a87-4703-9713-97cabb4bf694",
   "metadata": {},
   "outputs": [],
   "source": [
    "function adversary(time::Int, data::Array{Float64,2})::Int\n",
    "\n",
    "    # adversary is SPY -\n",
    "    result = tickerindexmap[\"SPY\"] |> i-> data[time,i] |> sign;\n",
    "    return result\n",
    "end;"
   ]
  },
  {
   "cell_type": "markdown",
   "id": "5062c81e-254a-4862-89a2-7fb4160e6b5f",
   "metadata": {},
   "source": [
    "Next, we'll build [a `model::MyBinaryWeightedMajorityAlgorithmModel` instance](src/Types.jl) that holds all the data associated with the problem [using a `build(...)` method](src/Factory.jl). "
   ]
  },
  {
   "cell_type": "code",
   "execution_count": 26,
   "id": "d092bfad-0b59-4e32-bb30-b3173bf5afcc",
   "metadata": {},
   "outputs": [],
   "source": [
    "model = let\n",
    "\n",
    "    # build -\n",
    "    model = build(MyBinaryWeightedMajorityAlgorithmModel, (\n",
    "        ϵ = 0.2, # learning rate \n",
    "        n = 3, # number of experts (needs to be odd to avoid ties)\n",
    "        T = 63, # number of rounds\n",
    "        expert = expert, # expert function\n",
    "        adversary = adversary, # adversary function\n",
    "    ));\n",
    "\n",
    "    # return the model -\n",
    "    model;\n",
    "end;"
   ]
  },
  {
   "cell_type": "markdown",
   "id": "05bdac87-0d51-4bcf-ad6d-4caa4c2b8628",
   "metadata": {},
   "source": [
    "Finally, we call [the `play(...)` method](src/Online.jl) to run the simulation. The [`play(...)` method](src/Online.jl) takes the `model::MyBinaryWeightedMajorityAlgorithmModel` instance and the data matrix `D̄::Array{Float64,2}` and returns two arrays:\n",
    "* The `sims::Array{Float64,2}` holds simulation information. Each row corresponds to a time `t.` The first $n$ columns correspond to the predictions of experts $i=1,2,\\dots,n$ at a time `t.` Column $n+1$ corresponds to the aggregator (us) prediction, and column $n+2$ corresponds to the adversary prediction at time `t.` Finally, the last column holds the loss value $l_{t}$ for the aggregator."
   ]
  },
  {
   "cell_type": "code",
   "execution_count": 28,
   "id": "c911a2d1-93a3-4cf4-a858-81a54754eb6c",
   "metadata": {},
   "outputs": [],
   "source": [
    "(sims, weights) = play(model, D̄);"
   ]
  },
  {
   "cell_type": "code",
   "execution_count": 29,
   "id": "81da3e9a-c9d2-4d3c-9e28-286f9bab9e40",
   "metadata": {},
   "outputs": [
    {
     "data": {
      "text/plain": [
       "63×6 Matrix{Int64}:\n",
       " -1   1  -1  -1  -1  0\n",
       "  1   1   1   1   1  0\n",
       "  1   1  -1   1   1  0\n",
       " -1  -1   1  -1  -1  0\n",
       " -1  -1  -1  -1   1  1\n",
       " -1  -1  -1  -1  -1  0\n",
       "  1   1   1   1   1  0\n",
       "  1   1  -1   1   1  0\n",
       "  1   1  -1   1  -1  1\n",
       " -1  -1  -1  -1  -1  0\n",
       "  1  -1  -1  -1  -1  0\n",
       "  1  -1  -1  -1   1  1\n",
       " -1  -1  -1  -1  -1  0\n",
       "  ⋮                  ⋮\n",
       " -1  -1   1  -1  -1  0\n",
       " -1  -1   1  -1  -1  0\n",
       " -1  -1   1  -1  -1  0\n",
       "  1  -1   1   1   1  0\n",
       " -1  -1   1  -1  -1  0\n",
       " -1  -1  -1  -1  -1  0\n",
       "  1   1  -1   1   1  0\n",
       "  1  -1   1   1   1  0\n",
       "  1   1   1   1   1  0\n",
       "  1  -1  -1   1   1  0\n",
       " -1   1   1  -1  -1  0\n",
       " -1  -1   1  -1  -1  0"
      ]
     },
     "execution_count": 29,
     "metadata": {},
     "output_type": "execute_result"
    }
   ],
   "source": [
    "sims"
   ]
  },
  {
   "cell_type": "code",
   "execution_count": 30,
   "id": "6532fd58-48c7-4886-907b-ee55e7e8038c",
   "metadata": {},
   "outputs": [
    {
     "data": {
      "text/plain": [
       "64×3 Matrix{Float64}:\n",
       " 1.0       1.0        1.0\n",
       " 1.0       0.8        1.0\n",
       " 1.0       0.8        1.0\n",
       " 1.0       0.8        0.8\n",
       " 1.0       0.8        0.64\n",
       " 0.8       0.64       0.512\n",
       " 0.8       0.64       0.512\n",
       " 0.8       0.64       0.512\n",
       " 0.8       0.64       0.4096\n",
       " 0.64      0.512      0.4096\n",
       " 0.64      0.512      0.4096\n",
       " 0.512     0.512      0.4096\n",
       " 0.512     0.4096     0.32768\n",
       " ⋮                    \n",
       " 0.167772  0.0687195  0.022518\n",
       " 0.167772  0.0687195  0.0180144\n",
       " 0.167772  0.0687195  0.0144115\n",
       " 0.167772  0.0549756  0.0144115\n",
       " 0.167772  0.0549756  0.0115292\n",
       " 0.167772  0.0549756  0.0115292\n",
       " 0.167772  0.0549756  0.00922337\n",
       " 0.167772  0.0439805  0.00922337\n",
       " 0.167772  0.0439805  0.00922337\n",
       " 0.167772  0.0351844  0.0073787\n",
       " 0.167772  0.0281475  0.00590296\n",
       " 0.167772  0.0281475  0.00472237"
      ]
     },
     "execution_count": 30,
     "metadata": {},
     "output_type": "execute_result"
    }
   ],
   "source": [
    "weights"
   ]
  },
  {
   "cell_type": "code",
   "execution_count": 31,
   "id": "2730109b-45c1-446b-afcf-a55f09faa0bf",
   "metadata": {},
   "outputs": [
    {
     "data": {
      "image/png": "[encoded data removed]",
      "image/svg+xml": [
       "<?xml version=\"1.0\" encoding=\"utf-8\"?>\n",
       "<svg xmlns=\"http://www.w3.org/2000/svg\" xmlns:xlink=\"http://www.w3.org/1999/xlink\" width=\"600\" height=\"400\" viewBox=\"0 0 2400 1600\">\n",
       "<defs>\n",
       "  <clipPath id=\"clip560\">\n",
       "    <rect x=\"0\" y=\"0\" width=\"2400\" height=\"1600\"/>\n",
       "  </clipPath>\n",
       "</defs>\n",
       "<path clip-path=\"url(#clip560)\" d=\"M0 1600 L2400 1600 L2400 8.88178e-14 L0 8.88178e-14  Z\" fill=\"#ffffff\" fill-rule=\"evenodd\" fill-opacity=\"1\"/>\n",
       "<defs>\n",
       "  <clipPath id=\"clip561\">\n",
       "    <rect x=\"480\" y=\"0\" width=\"1681\" height=\"1600\"/>\n",
       "  </clipPath>\n",
       "</defs>\n",
       "<path clip-path=\"url(#clip560)\" d=\"M186.274 1486.45 L2352.76 1486.45 L2352.76 47.2441 L186.274 47.2441  Z\" fill=\"#ffffff\" fill-rule=\"evenodd\" fill-opacity=\"1\"/>\n",
       "<defs>\n",
       "  <clipPath id=\"clip562\">\n",
       "    <rect x=\"186\" y=\"47\" width=\"2167\" height=\"1440\"/>\n",
       "  </clipPath>\n",
       "</defs>\n",
       "<polyline clip-path=\"url(#clip562)\" style=\"stroke:#000000; stroke-linecap:round; stroke-linejoin:round; stroke-width:2; stroke-opacity:0.1; fill:none\" points=\"215.147,1486.45 215.147,47.2441 \"/>\n",
       "<polyline clip-path=\"url(#clip562)\" style=\"stroke:#000000; stroke-linecap:round; stroke-linejoin:round; stroke-width:2; stroke-opacity:0.1; fill:none\" points=\"539.568,1486.45 539.568,47.2441 \"/>\n",
       "<polyline clip-path=\"url(#clip562)\" style=\"stroke:#000000; stroke-linecap:round; stroke-linejoin:round; stroke-width:2; stroke-opacity:0.1; fill:none\" points=\"863.989,1486.45 863.989,47.2441 \"/>\n",
       "<polyline clip-path=\"url(#clip562)\" style=\"stroke:#000000; stroke-linecap:round; stroke-linejoin:round; stroke-width:2; stroke-opacity:0.1; fill:none\" points=\"1188.41,1486.45 1188.41,47.2441 \"/>\n",
       "<polyline clip-path=\"url(#clip562)\" style=\"stroke:#000000; stroke-linecap:round; stroke-linejoin:round; stroke-width:2; stroke-opacity:0.1; fill:none\" points=\"1512.83,1486.45 1512.83,47.2441 \"/>\n",
       "<polyline clip-path=\"url(#clip562)\" style=\"stroke:#000000; stroke-linecap:round; stroke-linejoin:round; stroke-width:2; stroke-opacity:0.1; fill:none\" points=\"1837.25,1486.45 1837.25,47.2441 \"/>\n",
       "<polyline clip-path=\"url(#clip562)\" style=\"stroke:#000000; stroke-linecap:round; stroke-linejoin:round; stroke-width:2; stroke-opacity:0.1; fill:none\" points=\"2161.67,1486.45 2161.67,47.2441 \"/>\n",
       "<polyline clip-path=\"url(#clip562)\" style=\"stroke:#000000; stroke-linecap:round; stroke-linejoin:round; stroke-width:2; stroke-opacity:0.1; fill:none\" points=\"186.274,1452.16 2352.76,1452.16 \"/>\n",
       "<polyline clip-path=\"url(#clip562)\" style=\"stroke:#000000; stroke-linecap:round; stroke-linejoin:round; stroke-width:2; stroke-opacity:0.1; fill:none\" points=\"186.274,1111.11 2352.76,1111.11 \"/>\n",
       "<polyline clip-path=\"url(#clip562)\" style=\"stroke:#000000; stroke-linecap:round; stroke-linejoin:round; stroke-width:2; stroke-opacity:0.1; fill:none\" points=\"186.274,770.067 2352.76,770.067 \"/>\n",
       "<polyline clip-path=\"url(#clip562)\" style=\"stroke:#000000; stroke-linecap:round; stroke-linejoin:round; stroke-width:2; stroke-opacity:0.1; fill:none\" points=\"186.274,429.022 2352.76,429.022 \"/>\n",
       "<polyline clip-path=\"url(#clip562)\" style=\"stroke:#000000; stroke-linecap:round; stroke-linejoin:round; stroke-width:2; stroke-opacity:0.1; fill:none\" points=\"186.274,87.9763 2352.76,87.9763 \"/>\n",
       "<polyline clip-path=\"url(#clip560)\" style=\"stroke:#000000; stroke-linecap:round; stroke-linejoin:round; stroke-width:4; stroke-opacity:1; fill:none\" points=\"186.274,1486.45 2352.76,1486.45 \"/>\n",
       "<polyline clip-path=\"url(#clip560)\" style=\"stroke:#000000; stroke-linecap:round; stroke-linejoin:round; stroke-width:4; stroke-opacity:1; fill:none\" points=\"215.147,1486.45 215.147,1467.55 \"/>\n",
       "<polyline clip-path=\"url(#clip560)\" style=\"stroke:#000000; stroke-linecap:round; stroke-linejoin:round; stroke-width:4; stroke-opacity:1; fill:none\" points=\"539.568,1486.45 539.568,1467.55 \"/>\n",
       "<polyline clip-path=\"url(#clip560)\" style=\"stroke:#000000; stroke-linecap:round; stroke-linejoin:round; stroke-width:4; stroke-opacity:1; fill:none\" points=\"863.989,1486.45 863.989,1467.55 \"/>\n",
       "<polyline clip-path=\"url(#clip560)\" style=\"stroke:#000000; stroke-linecap:round; stroke-linejoin:round; stroke-width:4; stroke-opacity:1; fill:none\" points=\"1188.41,1486.45 1188.41,1467.55 \"/>\n",
       "<polyline clip-path=\"url(#clip560)\" style=\"stroke:#000000; stroke-linecap:round; stroke-linejoin:round; stroke-width:4; stroke-opacity:1; fill:none\" points=\"1512.83,1486.45 1512.83,1467.55 \"/>\n",
       "<polyline clip-path=\"url(#clip560)\" style=\"stroke:#000000; stroke-linecap:round; stroke-linejoin:round; stroke-width:4; stroke-opacity:1; fill:none\" points=\"1837.25,1486.45 1837.25,1467.55 \"/>\n",
       "<polyline clip-path=\"url(#clip560)\" style=\"stroke:#000000; stroke-linecap:round; stroke-linejoin:round; stroke-width:4; stroke-opacity:1; fill:none\" points=\"2161.67,1486.45 2161.67,1467.55 \"/>\n",
       "<path clip-path=\"url(#clip560)\" d=\"M215.147 1517.37 Q211.536 1517.37 209.708 1520.93 Q207.902 1524.47 207.902 1531.6 Q207.902 1538.71 209.708 1542.27 Q211.536 1545.82 215.147 1545.82 Q218.782 1545.82 220.587 1542.27 Q222.416 1538.71 222.416 1531.6 Q222.416 1524.47 220.587 1520.93 Q218.782 1517.37 215.147 1517.37 M215.147 1513.66 Q220.958 1513.66 224.013 1518.27 Q227.092 1522.85 227.092 1531.6 Q227.092 1540.33 224.013 1544.94 Q220.958 1549.52 215.147 1549.52 Q209.337 1549.52 206.259 1544.94 Q203.203 1540.33 203.203 1531.6 Q203.203 1522.85 206.259 1518.27 Q209.337 1513.66 215.147 1513.66 Z\" fill=\"#000000\" fill-rule=\"nonzero\" fill-opacity=\"1\" /><path clip-path=\"url(#clip560)\" d=\"M514.256 1544.91 L521.895 1544.91 L521.895 1518.55 L513.585 1520.21 L513.585 1515.95 L521.848 1514.29 L526.524 1514.29 L526.524 1544.91 L534.163 1544.91 L534.163 1548.85 L514.256 1548.85 L514.256 1544.91 Z\" fill=\"#000000\" fill-rule=\"nonzero\" fill-opacity=\"1\" /><path clip-path=\"url(#clip560)\" d=\"M553.607 1517.37 Q549.996 1517.37 548.168 1520.93 Q546.362 1524.47 546.362 1531.6 Q546.362 1538.71 548.168 1542.27 Q549.996 1545.82 553.607 1545.82 Q557.242 1545.82 559.047 1542.27 Q560.876 1538.71 560.876 1531.6 Q560.876 1524.47 559.047 1520.93 Q557.242 1517.37 553.607 1517.37 M553.607 1513.66 Q559.418 1513.66 562.473 1518.27 Q565.552 1522.85 565.552 1531.6 Q565.552 1540.33 562.473 1544.94 Q559.418 1549.52 553.607 1549.52 Q547.797 1549.52 544.719 1544.94 Q541.663 1540.33 541.663 1531.6 Q541.663 1522.85 544.719 1518.27 Q547.797 1513.66 553.607 1513.66 Z\" fill=\"#000000\" fill-rule=\"nonzero\" fill-opacity=\"1\" /><path clip-path=\"url(#clip560)\" d=\"M842.762 1544.91 L859.082 1544.91 L859.082 1548.85 L837.137 1548.85 L837.137 1544.91 Q839.799 1542.16 844.383 1537.53 Q848.989 1532.88 850.17 1531.53 Q852.415 1529.01 853.295 1527.27 Q854.197 1525.51 854.197 1523.82 Q854.197 1521.07 852.253 1519.33 Q850.332 1517.6 847.23 1517.6 Q845.031 1517.6 842.577 1518.36 Q840.147 1519.13 837.369 1520.68 L837.369 1515.95 Q840.193 1514.82 842.647 1514.24 Q845.1 1513.66 847.137 1513.66 Q852.508 1513.66 855.702 1516.35 Q858.896 1519.03 858.896 1523.52 Q858.896 1525.65 858.086 1527.57 Q857.299 1529.47 855.193 1532.07 Q854.614 1532.74 851.512 1535.95 Q848.41 1539.15 842.762 1544.91 Z\" fill=\"#000000\" fill-rule=\"nonzero\" fill-opacity=\"1\" /><path clip-path=\"url(#clip560)\" d=\"M878.896 1517.37 Q875.285 1517.37 873.457 1520.93 Q871.651 1524.47 871.651 1531.6 Q871.651 1538.71 873.457 1542.27 Q875.285 1545.82 878.896 1545.82 Q882.531 1545.82 884.336 1542.27 Q886.165 1538.71 886.165 1531.6 Q886.165 1524.47 884.336 1520.93 Q882.531 1517.37 878.896 1517.37 M878.896 1513.66 Q884.706 1513.66 887.762 1518.27 Q890.841 1522.85 890.841 1531.6 Q890.841 1540.33 887.762 1544.94 Q884.706 1549.52 878.896 1549.52 Q873.086 1549.52 870.007 1544.94 Q866.952 1540.33 866.952 1531.6 Q866.952 1522.85 870.007 1518.27 Q873.086 1513.66 878.896 1513.66 Z\" fill=\"#000000\" fill-rule=\"nonzero\" fill-opacity=\"1\" /><path clip-path=\"url(#clip560)\" d=\"M1177.25 1530.21 Q1180.61 1530.93 1182.48 1533.2 Q1184.38 1535.47 1184.38 1538.8 Q1184.38 1543.92 1180.86 1546.72 Q1177.35 1549.52 1170.86 1549.52 Q1168.69 1549.52 1166.37 1549.08 Q1164.08 1548.66 1161.63 1547.81 L1161.63 1543.29 Q1163.57 1544.43 1165.89 1545.01 Q1168.2 1545.58 1170.72 1545.58 Q1175.12 1545.58 1177.41 1543.85 Q1179.73 1542.11 1179.73 1538.8 Q1179.73 1535.75 1177.58 1534.03 Q1175.45 1532.3 1171.63 1532.3 L1167.6 1532.3 L1167.6 1528.45 L1171.81 1528.45 Q1175.26 1528.45 1177.09 1527.09 Q1178.92 1525.7 1178.92 1523.11 Q1178.92 1520.45 1177.02 1519.03 Q1175.15 1517.6 1171.63 1517.6 Q1169.71 1517.6 1167.51 1518.01 Q1165.31 1518.43 1162.67 1519.31 L1162.67 1515.14 Q1165.33 1514.4 1167.65 1514.03 Q1169.98 1513.66 1172.04 1513.66 Q1177.37 1513.66 1180.47 1516.09 Q1183.57 1518.5 1183.57 1522.62 Q1183.57 1525.49 1181.93 1527.48 Q1180.28 1529.45 1177.25 1530.21 Z\" fill=\"#000000\" fill-rule=\"nonzero\" fill-opacity=\"1\" /><path clip-path=\"url(#clip560)\" d=\"M1203.25 1517.37 Q1199.64 1517.37 1197.81 1520.93 Q1196 1524.47 1196 1531.6 Q1196 1538.71 1197.81 1542.27 Q1199.64 1545.82 1203.25 1545.82 Q1206.88 1545.82 1208.69 1542.27 Q1210.52 1538.71 1210.52 1531.6 Q1210.52 1524.47 1208.69 1520.93 Q1206.88 1517.37 1203.25 1517.37 M1203.25 1513.66 Q1209.06 1513.66 1212.11 1518.27 Q1215.19 1522.85 1215.19 1531.6 Q1215.19 1540.33 1212.11 1544.94 Q1209.06 1549.52 1203.25 1549.52 Q1197.44 1549.52 1194.36 1544.94 Q1191.3 1540.33 1191.3 1531.6 Q1191.3 1522.85 1194.36 1518.27 Q1197.44 1513.66 1203.25 1513.66 Z\" fill=\"#000000\" fill-rule=\"nonzero\" fill-opacity=\"1\" /><path clip-path=\"url(#clip560)\" d=\"M1501 1518.36 L1489.2 1536.81 L1501 1536.81 L1501 1518.36 M1499.78 1514.29 L1505.65 1514.29 L1505.65 1536.81 L1510.59 1536.81 L1510.59 1540.7 L1505.65 1540.7 L1505.65 1548.85 L1501 1548.85 L1501 1540.7 L1485.4 1540.7 L1485.4 1536.19 L1499.78 1514.29 Z\" fill=\"#000000\" fill-rule=\"nonzero\" fill-opacity=\"1\" /><path clip-path=\"url(#clip560)\" d=\"M1528.32 1517.37 Q1524.71 1517.37 1522.88 1520.93 Q1521.07 1524.47 1521.07 1531.6 Q1521.07 1538.71 1522.88 1542.27 Q1524.71 1545.82 1528.32 1545.82 Q1531.95 1545.82 1533.76 1542.27 Q1535.59 1538.71 1535.59 1531.6 Q1535.59 1524.47 1533.76 1520.93 Q1531.95 1517.37 1528.32 1517.37 M1528.32 1513.66 Q1534.13 1513.66 1537.18 1518.27 Q1540.26 1522.85 1540.26 1531.6 Q1540.26 1540.33 1537.18 1544.94 Q1534.13 1549.52 1528.32 1549.52 Q1522.51 1549.52 1519.43 1544.94 Q1516.37 1540.33 1516.37 1531.6 Q1516.37 1522.85 1519.43 1518.27 Q1522.51 1513.66 1528.32 1513.66 Z\" fill=\"#000000\" fill-rule=\"nonzero\" fill-opacity=\"1\" /><path clip-path=\"url(#clip560)\" d=\"M1811.95 1514.29 L1830.31 1514.29 L1830.31 1518.22 L1816.23 1518.22 L1816.23 1526.7 Q1817.25 1526.35 1818.27 1526.19 Q1819.29 1526 1820.31 1526 Q1826.09 1526 1829.47 1529.17 Q1832.85 1532.34 1832.85 1537.76 Q1832.85 1543.34 1829.38 1546.44 Q1825.91 1549.52 1819.59 1549.52 Q1817.41 1549.52 1815.14 1549.15 Q1812.9 1548.78 1810.49 1548.04 L1810.49 1543.34 Q1812.58 1544.47 1814.8 1545.03 Q1817.02 1545.58 1819.5 1545.58 Q1823.5 1545.58 1825.84 1543.48 Q1828.18 1541.37 1828.18 1537.76 Q1828.18 1534.15 1825.84 1532.04 Q1823.5 1529.94 1819.5 1529.94 Q1817.62 1529.94 1815.75 1530.35 Q1813.89 1530.77 1811.95 1531.65 L1811.95 1514.29 Z\" fill=\"#000000\" fill-rule=\"nonzero\" fill-opacity=\"1\" /><path clip-path=\"url(#clip560)\" d=\"M1852.07 1517.37 Q1848.45 1517.37 1846.63 1520.93 Q1844.82 1524.47 1844.82 1531.6 Q1844.82 1538.71 1846.63 1542.27 Q1848.45 1545.82 1852.07 1545.82 Q1855.7 1545.82 1857.51 1542.27 Q1859.33 1538.71 1859.33 1531.6 Q1859.33 1524.47 1857.51 1520.93 Q1855.7 1517.37 1852.07 1517.37 M1852.07 1513.66 Q1857.88 1513.66 1860.93 1518.27 Q1864.01 1522.85 1864.01 1531.6 Q1864.01 1540.33 1860.93 1544.94 Q1857.88 1549.52 1852.07 1549.52 Q1846.26 1549.52 1843.18 1544.94 Q1840.12 1540.33 1840.12 1531.6 Q1840.12 1522.85 1843.18 1518.27 Q1846.26 1513.66 1852.07 1513.66 Z\" fill=\"#000000\" fill-rule=\"nonzero\" fill-opacity=\"1\" /><path clip-path=\"url(#clip560)\" d=\"M2147.08 1529.7 Q2143.93 1529.7 2142.08 1531.86 Q2140.25 1534.01 2140.25 1537.76 Q2140.25 1541.49 2142.08 1543.66 Q2143.93 1545.82 2147.08 1545.82 Q2150.23 1545.82 2152.05 1543.66 Q2153.91 1541.49 2153.91 1537.76 Q2153.91 1534.01 2152.05 1531.86 Q2150.23 1529.7 2147.08 1529.7 M2156.36 1515.05 L2156.36 1519.31 Q2154.6 1518.48 2152.79 1518.04 Q2151.01 1517.6 2149.25 1517.6 Q2144.62 1517.6 2142.17 1520.72 Q2139.74 1523.85 2139.39 1530.17 Q2140.76 1528.15 2142.82 1527.09 Q2144.88 1526 2147.36 1526 Q2152.56 1526 2155.57 1529.17 Q2158.6 1532.32 2158.6 1537.76 Q2158.6 1543.08 2155.46 1546.3 Q2152.31 1549.52 2147.08 1549.52 Q2141.08 1549.52 2137.91 1544.94 Q2134.74 1540.33 2134.74 1531.6 Q2134.74 1523.41 2138.63 1518.55 Q2142.52 1513.66 2149.07 1513.66 Q2150.83 1513.66 2152.61 1514.01 Q2154.42 1514.36 2156.36 1515.05 Z\" fill=\"#000000\" fill-rule=\"nonzero\" fill-opacity=\"1\" /><path clip-path=\"url(#clip560)\" d=\"M2176.66 1517.37 Q2173.05 1517.37 2171.22 1520.93 Q2169.42 1524.47 2169.42 1531.6 Q2169.42 1538.71 2171.22 1542.27 Q2173.05 1545.82 2176.66 1545.82 Q2180.29 1545.82 2182.1 1542.27 Q2183.93 1538.71 2183.93 1531.6 Q2183.93 1524.47 2182.1 1520.93 Q2180.29 1517.37 2176.66 1517.37 M2176.66 1513.66 Q2182.47 1513.66 2185.53 1518.27 Q2188.6 1522.85 2188.6 1531.6 Q2188.6 1540.33 2185.53 1544.94 Q2182.47 1549.52 2176.66 1549.52 Q2170.85 1549.52 2167.77 1544.94 Q2164.72 1540.33 2164.72 1531.6 Q2164.72 1522.85 2167.77 1518.27 Q2170.85 1513.66 2176.66 1513.66 Z\" fill=\"#000000\" fill-rule=\"nonzero\" fill-opacity=\"1\" /><polyline clip-path=\"url(#clip560)\" style=\"stroke:#000000; stroke-linecap:round; stroke-linejoin:round; stroke-width:4; stroke-opacity:1; fill:none\" points=\"186.274,1486.45 186.274,47.2441 \"/>\n",
       "<polyline clip-path=\"url(#clip560)\" style=\"stroke:#000000; stroke-linecap:round; stroke-linejoin:round; stroke-width:4; stroke-opacity:1; fill:none\" points=\"186.274,1452.16 205.172,1452.16 \"/>\n",
       "<polyline clip-path=\"url(#clip560)\" style=\"stroke:#000000; stroke-linecap:round; stroke-linejoin:round; stroke-width:4; stroke-opacity:1; fill:none\" points=\"186.274,1111.11 205.172,1111.11 \"/>\n",
       "<polyline clip-path=\"url(#clip560)\" style=\"stroke:#000000; stroke-linecap:round; stroke-linejoin:round; stroke-width:4; stroke-opacity:1; fill:none\" points=\"186.274,770.067 205.172,770.067 \"/>\n",
       "<polyline clip-path=\"url(#clip560)\" style=\"stroke:#000000; stroke-linecap:round; stroke-linejoin:round; stroke-width:4; stroke-opacity:1; fill:none\" points=\"186.274,429.022 205.172,429.022 \"/>\n",
       "<polyline clip-path=\"url(#clip560)\" style=\"stroke:#000000; stroke-linecap:round; stroke-linejoin:round; stroke-width:4; stroke-opacity:1; fill:none\" points=\"186.274,87.9763 205.172,87.9763 \"/>\n",
       "<path clip-path=\"url(#clip560)\" d=\"M62.9365 1437.96 Q59.3254 1437.96 57.4967 1441.52 Q55.6912 1445.06 55.6912 1452.19 Q55.6912 1459.3 57.4967 1462.86 Q59.3254 1466.41 62.9365 1466.41 Q66.5707 1466.41 68.3763 1462.86 Q70.205 1459.3 70.205 1452.19 Q70.205 1445.06 68.3763 1441.52 Q66.5707 1437.96 62.9365 1437.96 M62.9365 1434.25 Q68.7467 1434.25 71.8022 1438.86 Q74.8809 1443.44 74.8809 1452.19 Q74.8809 1460.92 71.8022 1465.53 Q68.7467 1470.11 62.9365 1470.11 Q57.1264 1470.11 54.0477 1465.53 Q50.9921 1460.92 50.9921 1452.19 Q50.9921 1443.44 54.0477 1438.86 Q57.1264 1434.25 62.9365 1434.25 Z\" fill=\"#000000\" fill-rule=\"nonzero\" fill-opacity=\"1\" /><path clip-path=\"url(#clip560)\" d=\"M83.0984 1463.56 L87.9827 1463.56 L87.9827 1469.44 L83.0984 1469.44 L83.0984 1463.56 Z\" fill=\"#000000\" fill-rule=\"nonzero\" fill-opacity=\"1\" /><path clip-path=\"url(#clip560)\" d=\"M108.168 1437.96 Q104.557 1437.96 102.728 1441.52 Q100.922 1445.06 100.922 1452.19 Q100.922 1459.3 102.728 1462.86 Q104.557 1466.41 108.168 1466.41 Q111.802 1466.41 113.608 1462.86 Q115.436 1459.3 115.436 1452.19 Q115.436 1445.06 113.608 1441.52 Q111.802 1437.96 108.168 1437.96 M108.168 1434.25 Q113.978 1434.25 117.033 1438.86 Q120.112 1443.44 120.112 1452.19 Q120.112 1460.92 117.033 1465.53 Q113.978 1470.11 108.168 1470.11 Q102.358 1470.11 99.2789 1465.53 Q96.2234 1460.92 96.2234 1452.19 Q96.2234 1443.44 99.2789 1438.86 Q102.358 1434.25 108.168 1434.25 Z\" fill=\"#000000\" fill-rule=\"nonzero\" fill-opacity=\"1\" /><path clip-path=\"url(#clip560)\" d=\"M138.33 1437.96 Q134.719 1437.96 132.89 1441.52 Q131.084 1445.06 131.084 1452.19 Q131.084 1459.3 132.89 1462.86 Q134.719 1466.41 138.33 1466.41 Q141.964 1466.41 143.769 1462.86 Q145.598 1459.3 145.598 1452.19 Q145.598 1445.06 143.769 1441.52 Q141.964 1437.96 138.33 1437.96 M138.33 1434.25 Q144.14 1434.25 147.195 1438.86 Q150.274 1443.44 150.274 1452.19 Q150.274 1460.92 147.195 1465.53 Q144.14 1470.11 138.33 1470.11 Q132.519 1470.11 129.441 1465.53 Q126.385 1460.92 126.385 1452.19 Q126.385 1443.44 129.441 1438.86 Q132.519 1434.25 138.33 1434.25 Z\" fill=\"#000000\" fill-rule=\"nonzero\" fill-opacity=\"1\" /><path clip-path=\"url(#clip560)\" d=\"M63.9319 1096.91 Q60.3208 1096.91 58.4921 1100.48 Q56.6865 1104.02 56.6865 1111.15 Q56.6865 1118.25 58.4921 1121.82 Q60.3208 1125.36 63.9319 1125.36 Q67.5661 1125.36 69.3717 1121.82 Q71.2004 1118.25 71.2004 1111.15 Q71.2004 1104.02 69.3717 1100.48 Q67.5661 1096.91 63.9319 1096.91 M63.9319 1093.21 Q69.742 1093.21 72.7976 1097.81 Q75.8763 1102.4 75.8763 1111.15 Q75.8763 1119.87 72.7976 1124.48 Q69.742 1129.06 63.9319 1129.06 Q58.1217 1129.06 55.043 1124.48 Q51.9875 1119.87 51.9875 1111.15 Q51.9875 1102.4 55.043 1097.81 Q58.1217 1093.21 63.9319 1093.21 Z\" fill=\"#000000\" fill-rule=\"nonzero\" fill-opacity=\"1\" /><path clip-path=\"url(#clip560)\" d=\"M84.0938 1122.51 L88.978 1122.51 L88.978 1128.39 L84.0938 1128.39 L84.0938 1122.51 Z\" fill=\"#000000\" fill-rule=\"nonzero\" fill-opacity=\"1\" /><path clip-path=\"url(#clip560)\" d=\"M103.191 1124.46 L119.51 1124.46 L119.51 1128.39 L97.566 1128.39 L97.566 1124.46 Q100.228 1121.7 104.811 1117.07 Q109.418 1112.42 110.598 1111.08 Q112.844 1108.55 113.723 1106.82 Q114.626 1105.06 114.626 1103.37 Q114.626 1100.61 112.682 1098.88 Q110.76 1097.14 107.658 1097.14 Q105.459 1097.14 103.006 1097.91 Q100.575 1098.67 97.7974 1100.22 L97.7974 1095.5 Q100.621 1094.36 103.075 1093.79 Q105.529 1093.21 107.566 1093.21 Q112.936 1093.21 116.131 1095.89 Q119.325 1098.58 119.325 1103.07 Q119.325 1105.2 118.515 1107.12 Q117.728 1109.02 115.621 1111.61 Q115.043 1112.28 111.941 1115.5 Q108.839 1118.69 103.191 1124.46 Z\" fill=\"#000000\" fill-rule=\"nonzero\" fill-opacity=\"1\" /><path clip-path=\"url(#clip560)\" d=\"M129.371 1093.83 L147.728 1093.83 L147.728 1097.77 L133.654 1097.77 L133.654 1106.24 Q134.672 1105.89 135.691 1105.73 Q136.709 1105.55 137.728 1105.55 Q143.515 1105.55 146.894 1108.72 Q150.274 1111.89 150.274 1117.3 Q150.274 1122.88 146.802 1125.99 Q143.33 1129.06 137.01 1129.06 Q134.834 1129.06 132.566 1128.69 Q130.32 1128.32 127.913 1127.58 L127.913 1122.88 Q129.996 1124.02 132.219 1124.57 Q134.441 1125.13 136.918 1125.13 Q140.922 1125.13 143.26 1123.02 Q145.598 1120.92 145.598 1117.3 Q145.598 1113.69 143.26 1111.59 Q140.922 1109.48 136.918 1109.48 Q135.043 1109.48 133.168 1109.9 Q131.316 1110.31 129.371 1111.19 L129.371 1093.83 Z\" fill=\"#000000\" fill-rule=\"nonzero\" fill-opacity=\"1\" /><path clip-path=\"url(#clip560)\" d=\"M62.9365 755.866 Q59.3254 755.866 57.4967 759.431 Q55.6912 762.972 55.6912 770.102 Q55.6912 777.208 57.4967 780.773 Q59.3254 784.315 62.9365 784.315 Q66.5707 784.315 68.3763 780.773 Q70.205 777.208 70.205 770.102 Q70.205 762.972 68.3763 759.431 Q66.5707 755.866 62.9365 755.866 M62.9365 752.162 Q68.7467 752.162 71.8022 756.769 Q74.8809 761.352 74.8809 770.102 Q74.8809 778.829 71.8022 783.435 Q68.7467 788.018 62.9365 788.018 Q57.1264 788.018 54.0477 783.435 Q50.9921 778.829 50.9921 770.102 Q50.9921 761.352 54.0477 756.769 Q57.1264 752.162 62.9365 752.162 Z\" fill=\"#000000\" fill-rule=\"nonzero\" fill-opacity=\"1\" /><path clip-path=\"url(#clip560)\" d=\"M83.0984 781.467 L87.9827 781.467 L87.9827 787.347 L83.0984 787.347 L83.0984 781.467 Z\" fill=\"#000000\" fill-rule=\"nonzero\" fill-opacity=\"1\" /><path clip-path=\"url(#clip560)\" d=\"M98.2141 752.787 L116.57 752.787 L116.57 756.722 L102.496 756.722 L102.496 765.194 Q103.515 764.847 104.534 764.685 Q105.552 764.5 106.571 764.5 Q112.358 764.5 115.737 767.671 Q119.117 770.843 119.117 776.259 Q119.117 781.838 115.645 784.94 Q112.172 788.018 105.853 788.018 Q103.677 788.018 101.409 787.648 Q99.1632 787.278 96.7558 786.537 L96.7558 781.838 Q98.8391 782.972 101.061 783.528 Q103.284 784.083 105.76 784.083 Q109.765 784.083 112.103 781.977 Q114.441 779.87 114.441 776.259 Q114.441 772.648 112.103 770.542 Q109.765 768.435 105.76 768.435 Q103.885 768.435 102.01 768.852 Q100.159 769.268 98.2141 770.148 L98.2141 752.787 Z\" fill=\"#000000\" fill-rule=\"nonzero\" fill-opacity=\"1\" /><path clip-path=\"url(#clip560)\" d=\"M138.33 755.866 Q134.719 755.866 132.89 759.431 Q131.084 762.972 131.084 770.102 Q131.084 777.208 132.89 780.773 Q134.719 784.315 138.33 784.315 Q141.964 784.315 143.769 780.773 Q145.598 777.208 145.598 770.102 Q145.598 762.972 143.769 759.431 Q141.964 755.866 138.33 755.866 M138.33 752.162 Q144.14 752.162 147.195 756.769 Q150.274 761.352 150.274 770.102 Q150.274 778.829 147.195 783.435 Q144.14 788.018 138.33 788.018 Q132.519 788.018 129.441 783.435 Q126.385 778.829 126.385 770.102 Q126.385 761.352 129.441 756.769 Q132.519 752.162 138.33 752.162 Z\" fill=\"#000000\" fill-rule=\"nonzero\" fill-opacity=\"1\" /><path clip-path=\"url(#clip560)\" d=\"M63.9319 414.82 Q60.3208 414.82 58.4921 418.385 Q56.6865 421.927 56.6865 429.056 Q56.6865 436.163 58.4921 439.728 Q60.3208 443.269 63.9319 443.269 Q67.5661 443.269 69.3717 439.728 Q71.2004 436.163 71.2004 429.056 Q71.2004 421.927 69.3717 418.385 Q67.5661 414.82 63.9319 414.82 M63.9319 411.117 Q69.742 411.117 72.7976 415.723 Q75.8763 420.306 75.8763 429.056 Q75.8763 437.783 72.7976 442.39 Q69.742 446.973 63.9319 446.973 Q58.1217 446.973 55.043 442.39 Q51.9875 437.783 51.9875 429.056 Q51.9875 420.306 55.043 415.723 Q58.1217 411.117 63.9319 411.117 Z\" fill=\"#000000\" fill-rule=\"nonzero\" fill-opacity=\"1\" /><path clip-path=\"url(#clip560)\" d=\"M84.0938 440.422 L88.978 440.422 L88.978 446.302 L84.0938 446.302 L84.0938 440.422 Z\" fill=\"#000000\" fill-rule=\"nonzero\" fill-opacity=\"1\" /><path clip-path=\"url(#clip560)\" d=\"M97.9826 411.742 L120.205 411.742 L120.205 413.732 L107.658 446.302 L102.774 446.302 L114.58 415.677 L97.9826 415.677 L97.9826 411.742 Z\" fill=\"#000000\" fill-rule=\"nonzero\" fill-opacity=\"1\" /><path clip-path=\"url(#clip560)\" d=\"M129.371 411.742 L147.728 411.742 L147.728 415.677 L133.654 415.677 L133.654 424.149 Q134.672 423.802 135.691 423.64 Q136.709 423.455 137.728 423.455 Q143.515 423.455 146.894 426.626 Q150.274 429.797 150.274 435.214 Q150.274 440.792 146.802 443.894 Q143.33 446.973 137.01 446.973 Q134.834 446.973 132.566 446.603 Q130.32 446.232 127.913 445.491 L127.913 440.792 Q129.996 441.927 132.219 442.482 Q134.441 443.038 136.918 443.038 Q140.922 443.038 143.26 440.931 Q145.598 438.825 145.598 435.214 Q145.598 431.603 143.26 429.496 Q140.922 427.39 136.918 427.39 Q135.043 427.39 133.168 427.806 Q131.316 428.223 129.371 429.103 L129.371 411.742 Z\" fill=\"#000000\" fill-rule=\"nonzero\" fill-opacity=\"1\" /><path clip-path=\"url(#clip560)\" d=\"M53.7467 101.321 L61.3856 101.321 L61.3856 74.9555 L53.0754 76.6222 L53.0754 72.3629 L61.3393 70.6963 L66.0152 70.6963 L66.0152 101.321 L73.654 101.321 L73.654 105.256 L53.7467 105.256 L53.7467 101.321 Z\" fill=\"#000000\" fill-rule=\"nonzero\" fill-opacity=\"1\" /><path clip-path=\"url(#clip560)\" d=\"M83.0984 99.3767 L87.9827 99.3767 L87.9827 105.256 L83.0984 105.256 L83.0984 99.3767 Z\" fill=\"#000000\" fill-rule=\"nonzero\" fill-opacity=\"1\" /><path clip-path=\"url(#clip560)\" d=\"M108.168 73.775 Q104.557 73.775 102.728 77.3398 Q100.922 80.8814 100.922 88.011 Q100.922 95.1174 102.728 98.6822 Q104.557 102.224 108.168 102.224 Q111.802 102.224 113.608 98.6822 Q115.436 95.1174 115.436 88.011 Q115.436 80.8814 113.608 77.3398 Q111.802 73.775 108.168 73.775 M108.168 70.0713 Q113.978 70.0713 117.033 74.6777 Q120.112 79.261 120.112 88.011 Q120.112 96.7378 117.033 101.344 Q113.978 105.928 108.168 105.928 Q102.358 105.928 99.2789 101.344 Q96.2234 96.7378 96.2234 88.011 Q96.2234 79.261 99.2789 74.6777 Q102.358 70.0713 108.168 70.0713 Z\" fill=\"#000000\" fill-rule=\"nonzero\" fill-opacity=\"1\" /><path clip-path=\"url(#clip560)\" d=\"M138.33 73.775 Q134.719 73.775 132.89 77.3398 Q131.084 80.8814 131.084 88.011 Q131.084 95.1174 132.89 98.6822 Q134.719 102.224 138.33 102.224 Q141.964 102.224 143.769 98.6822 Q145.598 95.1174 145.598 88.011 Q145.598 80.8814 143.769 77.3398 Q141.964 73.775 138.33 73.775 M138.33 70.0713 Q144.14 70.0713 147.195 74.6777 Q150.274 79.261 150.274 88.011 Q150.274 96.7378 147.195 101.344 Q144.14 105.928 138.33 105.928 Q132.519 105.928 129.441 101.344 Q126.385 96.7378 126.385 88.011 Q126.385 79.261 129.441 74.6777 Q132.519 70.0713 138.33 70.0713 Z\" fill=\"#000000\" fill-rule=\"nonzero\" fill-opacity=\"1\" /><polyline clip-path=\"url(#clip562)\" style=\"stroke:#009af9; stroke-linecap:round; stroke-linejoin:round; stroke-width:4; stroke-opacity:1; fill:none\" points=\"247.59,87.9763 280.032,87.9763 312.474,87.9763 344.916,87.9763 377.358,87.9763 409.8,360.813 442.242,360.813 474.684,360.813 507.126,360.813 539.568,579.082 572.01,579.082 604.452,753.697 636.894,753.697 669.337,753.697 701.779,753.697 734.221,753.697 766.663,893.389 799.105,893.389 831.547,893.389 863.989,893.389 896.431,893.389 928.873,893.389 961.315,893.389 993.757,893.389 1026.2,893.389 1058.64,893.389 1091.08,893.389 1123.53,893.389 1155.97,893.389 1188.41,893.389 1220.85,893.389 1253.29,893.389 1285.74,893.389 1318.18,893.389 1350.62,893.389 1383.06,893.389 1415.5,1005.14 1447.95,1094.55 1480.39,1094.55 1512.83,1094.55 1545.27,1094.55 1577.71,1094.55 1610.16,1166.07 1642.6,1166.07 1675.04,1166.07 1707.48,1223.29 1739.93,1223.29 1772.37,1223.29 1804.81,1223.29 1837.25,1223.29 1869.69,1223.29 1902.14,1223.29 1934.58,1223.29 1967.02,1223.29 1999.46,1223.29 2031.9,1223.29 2064.35,1223.29 2096.79,1223.29 2129.23,1223.29 2161.67,1223.29 2194.11,1223.29 2226.56,1223.29 2259,1223.29 2291.44,1223.29 \"/>\n",
       "<polyline clip-path=\"url(#clip562)\" style=\"stroke:#000080; stroke-linecap:round; stroke-linejoin:round; stroke-width:4; stroke-opacity:1; fill:none\" points=\"247.59,87.9763 280.032,360.813 312.474,360.813 344.916,360.813 377.358,360.813 409.8,579.082 442.242,579.082 474.684,579.082 507.126,579.082 539.568,753.697 572.01,753.697 604.452,753.697 636.894,893.389 669.337,893.389 701.779,893.389 734.221,893.389 766.663,1005.14 799.105,1005.14 831.547,1005.14 863.989,1005.14 896.431,1005.14 928.873,1005.14 961.315,1005.14 993.757,1005.14 1026.2,1005.14 1058.64,1005.14 1091.08,1005.14 1123.53,1005.14 1155.97,1005.14 1188.41,1005.14 1220.85,1005.14 1253.29,1094.55 1285.74,1166.07 1318.18,1166.07 1350.62,1166.07 1383.06,1166.07 1415.5,1166.07 1447.95,1223.29 1480.39,1269.06 1512.83,1269.06 1545.27,1269.06 1577.71,1269.06 1610.16,1305.68 1642.6,1305.68 1675.04,1305.68 1707.48,1334.98 1739.93,1334.98 1772.37,1334.98 1804.81,1334.98 1837.25,1334.98 1869.69,1334.98 1902.14,1358.41 1934.58,1358.41 1967.02,1358.41 1999.46,1358.41 2031.9,1377.16 2064.35,1377.16 2096.79,1377.16 2129.23,1377.16 2161.67,1392.16 2194.11,1392.16 2226.56,1404.16 2259,1413.76 2291.44,1413.76 \"/>\n",
       "<polyline clip-path=\"url(#clip562)\" style=\"stroke:#ff0000; stroke-linecap:round; stroke-linejoin:round; stroke-width:4; stroke-opacity:1; fill:none\" points=\"247.59,87.9763 280.032,87.9763 312.474,87.9763 344.916,360.813 377.358,579.082 409.8,753.697 442.242,753.697 474.684,753.697 507.126,893.389 539.568,893.389 572.01,893.389 604.452,893.389 636.894,1005.14 669.337,1005.14 701.779,1005.14 734.221,1005.14 766.663,1005.14 799.105,1005.14 831.547,1005.14 863.989,1005.14 896.431,1005.14 928.873,1005.14 961.315,1094.55 993.757,1166.07 1026.2,1166.07 1058.64,1166.07 1091.08,1166.07 1123.53,1166.07 1155.97,1166.07 1188.41,1166.07 1220.85,1223.29 1253.29,1223.29 1285.74,1223.29 1318.18,1269.06 1350.62,1269.06 1383.06,1269.06 1415.5,1305.68 1447.95,1334.98 1480.39,1334.98 1512.83,1334.98 1545.27,1334.98 1577.71,1358.41 1610.16,1377.16 1642.6,1377.16 1675.04,1377.16 1707.48,1392.16 1739.93,1404.16 1772.37,1404.16 1804.81,1404.16 1837.25,1413.76 1869.69,1413.76 1902.14,1413.76 1934.58,1421.44 1967.02,1427.58 1999.46,1432.5 2031.9,1432.5 2064.35,1436.43 2096.79,1436.43 2129.23,1439.58 2161.67,1439.58 2194.11,1439.58 2226.56,1442.09 2259,1444.11 2291.44,1445.72 \"/>\n",
       "<path clip-path=\"url(#clip560)\" d=\"M2010.88 302.578 L2280.54 302.578 L2280.54 95.2176 L2010.88 95.2176  Z\" fill=\"#ffffff\" fill-rule=\"evenodd\" fill-opacity=\"1\"/>\n",
       "<polyline clip-path=\"url(#clip560)\" style=\"stroke:#000000; stroke-linecap:round; stroke-linejoin:round; stroke-width:4; stroke-opacity:1; fill:none\" points=\"2010.88,302.578 2280.54,302.578 2280.54,95.2176 2010.88,95.2176 2010.88,302.578 \"/>\n",
       "<polyline clip-path=\"url(#clip560)\" style=\"stroke:#009af9; stroke-linecap:round; stroke-linejoin:round; stroke-width:4; stroke-opacity:1; fill:none\" points=\"2034.95,147.058 2179.39,147.058 \"/>\n",
       "<path clip-path=\"url(#clip560)\" d=\"M2217.3 166.745 Q2215.5 171.375 2213.78 172.787 Q2212.07 174.199 2209.2 174.199 L2205.8 174.199 L2205.8 170.634 L2208.3 170.634 Q2210.06 170.634 2211.03 169.8 Q2212 168.967 2213.18 165.865 L2213.94 163.921 L2203.46 138.412 L2207.97 138.412 L2216.07 158.689 L2224.18 138.412 L2228.69 138.412 L2217.3 166.745 Z\" fill=\"#000000\" fill-rule=\"nonzero\" fill-opacity=\"1\" /><path clip-path=\"url(#clip560)\" d=\"M2235.98 160.402 L2243.62 160.402 L2243.62 134.037 L2235.31 135.703 L2235.31 131.444 L2243.57 129.778 L2248.25 129.778 L2248.25 160.402 L2255.89 160.402 L2255.89 164.338 L2235.98 164.338 L2235.98 160.402 Z\" fill=\"#000000\" fill-rule=\"nonzero\" fill-opacity=\"1\" /><polyline clip-path=\"url(#clip560)\" style=\"stroke:#000080; stroke-linecap:round; stroke-linejoin:round; stroke-width:4; stroke-opacity:1; fill:none\" points=\"2034.95,198.898 2179.39,198.898 \"/>\n",
       "<path clip-path=\"url(#clip560)\" d=\"M2217.3 218.585 Q2215.5 223.215 2213.78 224.627 Q2212.07 226.039 2209.2 226.039 L2205.8 226.039 L2205.8 222.474 L2208.3 222.474 Q2210.06 222.474 2211.03 221.64 Q2212 220.807 2213.18 217.705 L2213.94 215.761 L2203.46 190.252 L2207.97 190.252 L2216.07 210.529 L2224.18 190.252 L2228.69 190.252 L2217.3 218.585 Z\" fill=\"#000000\" fill-rule=\"nonzero\" fill-opacity=\"1\" /><path clip-path=\"url(#clip560)\" d=\"M2239.2 212.242 L2255.52 212.242 L2255.52 216.178 L2233.57 216.178 L2233.57 212.242 Q2236.24 209.488 2240.82 204.858 Q2245.43 200.205 2246.61 198.863 Q2248.85 196.34 2249.73 194.604 Q2250.63 192.844 2250.63 191.155 Q2250.63 188.4 2248.69 186.664 Q2246.77 184.928 2243.67 184.928 Q2241.47 184.928 2239.01 185.692 Q2236.58 186.455 2233.81 188.006 L2233.81 183.284 Q2236.63 182.15 2239.08 181.571 Q2241.54 180.993 2243.57 180.993 Q2248.94 180.993 2252.14 183.678 Q2255.33 186.363 2255.33 190.854 Q2255.33 192.983 2254.52 194.905 Q2253.74 196.803 2251.63 199.395 Q2251.05 200.067 2247.95 203.284 Q2244.85 206.479 2239.2 212.242 Z\" fill=\"#000000\" fill-rule=\"nonzero\" fill-opacity=\"1\" /><polyline clip-path=\"url(#clip560)\" style=\"stroke:#ff0000; stroke-linecap:round; stroke-linejoin:round; stroke-width:4; stroke-opacity:1; fill:none\" points=\"2034.95,250.738 2179.39,250.738 \"/>\n",
       "<path clip-path=\"url(#clip560)\" d=\"M2217.3 270.425 Q2215.5 275.055 2213.78 276.467 Q2212.07 277.879 2209.2 277.879 L2205.8 277.879 L2205.8 274.314 L2208.3 274.314 Q2210.06 274.314 2211.03 273.48 Q2212 272.647 2213.18 269.545 L2213.94 267.601 L2203.46 242.092 L2207.97 242.092 L2216.07 262.369 L2224.18 242.092 L2228.69 242.092 L2217.3 270.425 Z\" fill=\"#000000\" fill-rule=\"nonzero\" fill-opacity=\"1\" /><path clip-path=\"url(#clip560)\" d=\"M2249.34 249.383 Q2252.69 250.101 2254.57 252.369 Q2256.47 254.638 2256.47 257.971 Q2256.47 263.087 2252.95 265.888 Q2249.43 268.689 2242.95 268.689 Q2240.77 268.689 2238.46 268.249 Q2236.17 267.832 2233.71 266.976 L2233.71 262.462 Q2235.66 263.596 2237.97 264.175 Q2240.29 264.754 2242.81 264.754 Q2247.21 264.754 2249.5 263.018 Q2251.82 261.281 2251.82 257.971 Q2251.82 254.916 2249.66 253.203 Q2247.53 251.467 2243.71 251.467 L2239.69 251.467 L2239.69 247.624 L2243.9 247.624 Q2247.35 247.624 2249.18 246.258 Q2251 244.87 2251 242.277 Q2251 239.615 2249.11 238.203 Q2247.23 236.768 2243.71 236.768 Q2241.79 236.768 2239.59 237.184 Q2237.39 237.601 2234.75 238.481 L2234.75 234.314 Q2237.42 233.573 2239.73 233.203 Q2242.07 232.833 2244.13 232.833 Q2249.45 232.833 2252.56 235.263 Q2255.66 237.67 2255.66 241.791 Q2255.66 244.661 2254.01 246.652 Q2252.37 248.62 2249.34 249.383 Z\" fill=\"#000000\" fill-rule=\"nonzero\" fill-opacity=\"1\" /></svg>\n"
      ],
      "text/html": [
       "<?xml version=\"1.0\" encoding=\"utf-8\"?>\n",
       "<svg xmlns=\"http://www.w3.org/2000/svg\" xmlns:xlink=\"http://www.w3.org/1999/xlink\" width=\"600\" height=\"400\" viewBox=\"0 0 2400 1600\">\n",
       "<defs>\n",
       "  <clipPath id=\"clip610\">\n",
       "    <rect x=\"0\" y=\"0\" width=\"2400\" height=\"1600\"/>\n",
       "  </clipPath>\n",
       "</defs>\n",
       "<path clip-path=\"url(#clip610)\" d=\"M0 1600 L2400 1600 L2400 8.88178e-14 L0 8.88178e-14  Z\" fill=\"#ffffff\" fill-rule=\"evenodd\" fill-opacity=\"1\"/>\n",
       "<defs>\n",
       "  <clipPath id=\"clip611\">\n",
       "    <rect x=\"480\" y=\"0\" width=\"1681\" height=\"1600\"/>\n",
       "  </clipPath>\n",
       "</defs>\n",
       "<path clip-path=\"url(#clip610)\" d=\"M186.274 1486.45 L2352.76 1486.45 L2352.76 47.2441 L186.274 47.2441  Z\" fill=\"#ffffff\" fill-rule=\"evenodd\" fill-opacity=\"1\"/>\n",
       "<defs>\n",
       "  <clipPath id=\"clip612\">\n",
       "    <rect x=\"186\" y=\"47\" width=\"2167\" height=\"1440\"/>\n",
       "  </clipPath>\n",
       "</defs>\n",
       "<polyline clip-path=\"url(#clip612)\" style=\"stroke:#000000; stroke-linecap:round; stroke-linejoin:round; stroke-width:2; stroke-opacity:0.1; fill:none\" points=\"215.147,1486.45 215.147,47.2441 \"/>\n",
       "<polyline clip-path=\"url(#clip612)\" style=\"stroke:#000000; stroke-linecap:round; stroke-linejoin:round; stroke-width:2; stroke-opacity:0.1; fill:none\" points=\"539.568,1486.45 539.568,47.2441 \"/>\n",
       "<polyline clip-path=\"url(#clip612)\" style=\"stroke:#000000; stroke-linecap:round; stroke-linejoin:round; stroke-width:2; stroke-opacity:0.1; fill:none\" points=\"863.989,1486.45 863.989,47.2441 \"/>\n",
       "<polyline clip-path=\"url(#clip612)\" style=\"stroke:#000000; stroke-linecap:round; stroke-linejoin:round; stroke-width:2; stroke-opacity:0.1; fill:none\" points=\"1188.41,1486.45 1188.41,47.2441 \"/>\n",
       "<polyline clip-path=\"url(#clip612)\" style=\"stroke:#000000; stroke-linecap:round; stroke-linejoin:round; stroke-width:2; stroke-opacity:0.1; fill:none\" points=\"1512.83,1486.45 1512.83,47.2441 \"/>\n",
       "<polyline clip-path=\"url(#clip612)\" style=\"stroke:#000000; stroke-linecap:round; stroke-linejoin:round; stroke-width:2; stroke-opacity:0.1; fill:none\" points=\"1837.25,1486.45 1837.25,47.2441 \"/>\n",
       "<polyline clip-path=\"url(#clip612)\" style=\"stroke:#000000; stroke-linecap:round; stroke-linejoin:round; stroke-width:2; stroke-opacity:0.1; fill:none\" points=\"2161.67,1486.45 2161.67,47.2441 \"/>\n",
       "<polyline clip-path=\"url(#clip612)\" style=\"stroke:#000000; stroke-linecap:round; stroke-linejoin:round; stroke-width:2; stroke-opacity:0.1; fill:none\" points=\"186.274,1452.16 2352.76,1452.16 \"/>\n",
       "<polyline clip-path=\"url(#clip612)\" style=\"stroke:#000000; stroke-linecap:round; stroke-linejoin:round; stroke-width:2; stroke-opacity:0.1; fill:none\" points=\"186.274,1111.11 2352.76,1111.11 \"/>\n",
       "<polyline clip-path=\"url(#clip612)\" style=\"stroke:#000000; stroke-linecap:round; stroke-linejoin:round; stroke-width:2; stroke-opacity:0.1; fill:none\" points=\"186.274,770.067 2352.76,770.067 \"/>\n",
       "<polyline clip-path=\"url(#clip612)\" style=\"stroke:#000000; stroke-linecap:round; stroke-linejoin:round; stroke-width:2; stroke-opacity:0.1; fill:none\" points=\"186.274,429.022 2352.76,429.022 \"/>\n",
       "<polyline clip-path=\"url(#clip612)\" style=\"stroke:#000000; stroke-linecap:round; stroke-linejoin:round; stroke-width:2; stroke-opacity:0.1; fill:none\" points=\"186.274,87.9763 2352.76,87.9763 \"/>\n",
       "<polyline clip-path=\"url(#clip610)\" style=\"stroke:#000000; stroke-linecap:round; stroke-linejoin:round; stroke-width:4; stroke-opacity:1; fill:none\" points=\"186.274,1486.45 2352.76,1486.45 \"/>\n",
       "<polyline clip-path=\"url(#clip610)\" style=\"stroke:#000000; stroke-linecap:round; stroke-linejoin:round; stroke-width:4; stroke-opacity:1; fill:none\" points=\"215.147,1486.45 215.147,1467.55 \"/>\n",
       "<polyline clip-path=\"url(#clip610)\" style=\"stroke:#000000; stroke-linecap:round; stroke-linejoin:round; stroke-width:4; stroke-opacity:1; fill:none\" points=\"539.568,1486.45 539.568,1467.55 \"/>\n",
       "<polyline clip-path=\"url(#clip610)\" style=\"stroke:#000000; stroke-linecap:round; stroke-linejoin:round; stroke-width:4; stroke-opacity:1; fill:none\" points=\"863.989,1486.45 863.989,1467.55 \"/>\n",
       "<polyline clip-path=\"url(#clip610)\" style=\"stroke:#000000; stroke-linecap:round; stroke-linejoin:round; stroke-width:4; stroke-opacity:1; fill:none\" points=\"1188.41,1486.45 1188.41,1467.55 \"/>\n",
       "<polyline clip-path=\"url(#clip610)\" style=\"stroke:#000000; stroke-linecap:round; stroke-linejoin:round; stroke-width:4; stroke-opacity:1; fill:none\" points=\"1512.83,1486.45 1512.83,1467.55 \"/>\n",
       "<polyline clip-path=\"url(#clip610)\" style=\"stroke:#000000; stroke-linecap:round; stroke-linejoin:round; stroke-width:4; stroke-opacity:1; fill:none\" points=\"1837.25,1486.45 1837.25,1467.55 \"/>\n",
       "<polyline clip-path=\"url(#clip610)\" style=\"stroke:#000000; stroke-linecap:round; stroke-linejoin:round; stroke-width:4; stroke-opacity:1; fill:none\" points=\"2161.67,1486.45 2161.67,1467.55 \"/>\n",
       "<path clip-path=\"url(#clip610)\" d=\"M215.147 1517.37 Q211.536 1517.37 209.708 1520.93 Q207.902 1524.47 207.902 1531.6 Q207.902 1538.71 209.708 1542.27 Q211.536 1545.82 215.147 1545.82 Q218.782 1545.82 220.587 1542.27 Q222.416 1538.71 222.416 1531.6 Q222.416 1524.47 220.587 1520.93 Q218.782 1517.37 215.147 1517.37 M215.147 1513.66 Q220.958 1513.66 224.013 1518.27 Q227.092 1522.85 227.092 1531.6 Q227.092 1540.33 224.013 1544.94 Q220.958 1549.52 215.147 1549.52 Q209.337 1549.52 206.259 1544.94 Q203.203 1540.33 203.203 1531.6 Q203.203 1522.85 206.259 1518.27 Q209.337 1513.66 215.147 1513.66 Z\" fill=\"#000000\" fill-rule=\"nonzero\" fill-opacity=\"1\" /><path clip-path=\"url(#clip610)\" d=\"M514.256 1544.91 L521.895 1544.91 L521.895 1518.55 L513.585 1520.21 L513.585 1515.95 L521.848 1514.29 L526.524 1514.29 L526.524 1544.91 L534.163 1544.91 L534.163 1548.85 L514.256 1548.85 L514.256 1544.91 Z\" fill=\"#000000\" fill-rule=\"nonzero\" fill-opacity=\"1\" /><path clip-path=\"url(#clip610)\" d=\"M553.607 1517.37 Q549.996 1517.37 548.168 1520.93 Q546.362 1524.47 546.362 1531.6 Q546.362 1538.71 548.168 1542.27 Q549.996 1545.82 553.607 1545.82 Q557.242 1545.82 559.047 1542.27 Q560.876 1538.71 560.876 1531.6 Q560.876 1524.47 559.047 1520.93 Q557.242 1517.37 553.607 1517.37 M553.607 1513.66 Q559.418 1513.66 562.473 1518.27 Q565.552 1522.85 565.552 1531.6 Q565.552 1540.33 562.473 1544.94 Q559.418 1549.52 553.607 1549.52 Q547.797 1549.52 544.719 1544.94 Q541.663 1540.33 541.663 1531.6 Q541.663 1522.85 544.719 1518.27 Q547.797 1513.66 553.607 1513.66 Z\" fill=\"#000000\" fill-rule=\"nonzero\" fill-opacity=\"1\" /><path clip-path=\"url(#clip610)\" d=\"M842.762 1544.91 L859.082 1544.91 L859.082 1548.85 L837.137 1548.85 L837.137 1544.91 Q839.799 1542.16 844.383 1537.53 Q848.989 1532.88 850.17 1531.53 Q852.415 1529.01 853.295 1527.27 Q854.197 1525.51 854.197 1523.82 Q854.197 1521.07 852.253 1519.33 Q850.332 1517.6 847.23 1517.6 Q845.031 1517.6 842.577 1518.36 Q840.147 1519.13 837.369 1520.68 L837.369 1515.95 Q840.193 1514.82 842.647 1514.24 Q845.1 1513.66 847.137 1513.66 Q852.508 1513.66 855.702 1516.35 Q858.896 1519.03 858.896 1523.52 Q858.896 1525.65 858.086 1527.57 Q857.299 1529.47 855.193 1532.07 Q854.614 1532.74 851.512 1535.95 Q848.41 1539.15 842.762 1544.91 Z\" fill=\"#000000\" fill-rule=\"nonzero\" fill-opacity=\"1\" /><path clip-path=\"url(#clip610)\" d=\"M878.896 1517.37 Q875.285 1517.37 873.457 1520.93 Q871.651 1524.47 871.651 1531.6 Q871.651 1538.71 873.457 1542.27 Q875.285 1545.82 878.896 1545.82 Q882.531 1545.82 884.336 1542.27 Q886.165 1538.71 886.165 1531.6 Q886.165 1524.47 884.336 1520.93 Q882.531 1517.37 878.896 1517.37 M878.896 1513.66 Q884.706 1513.66 887.762 1518.27 Q890.841 1522.85 890.841 1531.6 Q890.841 1540.33 887.762 1544.94 Q884.706 1549.52 878.896 1549.52 Q873.086 1549.52 870.007 1544.94 Q866.952 1540.33 866.952 1531.6 Q866.952 1522.85 870.007 1518.27 Q873.086 1513.66 878.896 1513.66 Z\" fill=\"#000000\" fill-rule=\"nonzero\" fill-opacity=\"1\" /><path clip-path=\"url(#clip610)\" d=\"M1177.25 1530.21 Q1180.61 1530.93 1182.48 1533.2 Q1184.38 1535.47 1184.38 1538.8 Q1184.38 1543.92 1180.86 1546.72 Q1177.35 1549.52 1170.86 1549.52 Q1168.69 1549.52 1166.37 1549.08 Q1164.08 1548.66 1161.63 1547.81 L1161.63 1543.29 Q1163.57 1544.43 1165.89 1545.01 Q1168.2 1545.58 1170.72 1545.58 Q1175.12 1545.58 1177.41 1543.85 Q1179.73 1542.11 1179.73 1538.8 Q1179.73 1535.75 1177.58 1534.03 Q1175.45 1532.3 1171.63 1532.3 L1167.6 1532.3 L1167.6 1528.45 L1171.81 1528.45 Q1175.26 1528.45 1177.09 1527.09 Q1178.92 1525.7 1178.92 1523.11 Q1178.92 1520.45 1177.02 1519.03 Q1175.15 1517.6 1171.63 1517.6 Q1169.71 1517.6 1167.51 1518.01 Q1165.31 1518.43 1162.67 1519.31 L1162.67 1515.14 Q1165.33 1514.4 1167.65 1514.03 Q1169.98 1513.66 1172.04 1513.66 Q1177.37 1513.66 1180.47 1516.09 Q1183.57 1518.5 1183.57 1522.62 Q1183.57 1525.49 1181.93 1527.48 Q1180.28 1529.45 1177.25 1530.21 Z\" fill=\"#000000\" fill-rule=\"nonzero\" fill-opacity=\"1\" /><path clip-path=\"url(#clip610)\" d=\"M1203.25 1517.37 Q1199.64 1517.37 1197.81 1520.93 Q1196 1524.47 1196 1531.6 Q1196 1538.71 1197.81 1542.27 Q1199.64 1545.82 1203.25 1545.82 Q1206.88 1545.82 1208.69 1542.27 Q1210.52 1538.71 1210.52 1531.6 Q1210.52 1524.47 1208.69 1520.93 Q1206.88 1517.37 1203.25 1517.37 M1203.25 1513.66 Q1209.06 1513.66 1212.11 1518.27 Q1215.19 1522.85 1215.19 1531.6 Q1215.19 1540.33 1212.11 1544.94 Q1209.06 1549.52 1203.25 1549.52 Q1197.44 1549.52 1194.36 1544.94 Q1191.3 1540.33 1191.3 1531.6 Q1191.3 1522.85 1194.36 1518.27 Q1197.44 1513.66 1203.25 1513.66 Z\" fill=\"#000000\" fill-rule=\"nonzero\" fill-opacity=\"1\" /><path clip-path=\"url(#clip610)\" d=\"M1501 1518.36 L1489.2 1536.81 L1501 1536.81 L1501 1518.36 M1499.78 1514.29 L1505.65 1514.29 L1505.65 1536.81 L1510.59 1536.81 L1510.59 1540.7 L1505.65 1540.7 L1505.65 1548.85 L1501 1548.85 L1501 1540.7 L1485.4 1540.7 L1485.4 1536.19 L1499.78 1514.29 Z\" fill=\"#000000\" fill-rule=\"nonzero\" fill-opacity=\"1\" /><path clip-path=\"url(#clip610)\" d=\"M1528.32 1517.37 Q1524.71 1517.37 1522.88 1520.93 Q1521.07 1524.47 1521.07 1531.6 Q1521.07 1538.71 1522.88 1542.27 Q1524.71 1545.82 1528.32 1545.82 Q1531.95 1545.82 1533.76 1542.27 Q1535.59 1538.71 1535.59 1531.6 Q1535.59 1524.47 1533.76 1520.93 Q1531.95 1517.37 1528.32 1517.37 M1528.32 1513.66 Q1534.13 1513.66 1537.18 1518.27 Q1540.26 1522.85 1540.26 1531.6 Q1540.26 1540.33 1537.18 1544.94 Q1534.13 1549.52 1528.32 1549.52 Q1522.51 1549.52 1519.43 1544.94 Q1516.37 1540.33 1516.37 1531.6 Q1516.37 1522.85 1519.43 1518.27 Q1522.51 1513.66 1528.32 1513.66 Z\" fill=\"#000000\" fill-rule=\"nonzero\" fill-opacity=\"1\" /><path clip-path=\"url(#clip610)\" d=\"M1811.95 1514.29 L1830.31 1514.29 L1830.31 1518.22 L1816.23 1518.22 L1816.23 1526.7 Q1817.25 1526.35 1818.27 1526.19 Q1819.29 1526 1820.31 1526 Q1826.09 1526 1829.47 1529.17 Q1832.85 1532.34 1832.85 1537.76 Q1832.85 1543.34 1829.38 1546.44 Q1825.91 1549.52 1819.59 1549.52 Q1817.41 1549.52 1815.14 1549.15 Q1812.9 1548.78 1810.49 1548.04 L1810.49 1543.34 Q1812.58 1544.47 1814.8 1545.03 Q1817.02 1545.58 1819.5 1545.58 Q1823.5 1545.58 1825.84 1543.48 Q1828.18 1541.37 1828.18 1537.76 Q1828.18 1534.15 1825.84 1532.04 Q1823.5 1529.94 1819.5 1529.94 Q1817.62 1529.94 1815.75 1530.35 Q1813.89 1530.77 1811.95 1531.65 L1811.95 1514.29 Z\" fill=\"#000000\" fill-rule=\"nonzero\" fill-opacity=\"1\" /><path clip-path=\"url(#clip610)\" d=\"M1852.07 1517.37 Q1848.45 1517.37 1846.63 1520.93 Q1844.82 1524.47 1844.82 1531.6 Q1844.82 1538.71 1846.63 1542.27 Q1848.45 1545.82 1852.07 1545.82 Q1855.7 1545.82 1857.51 1542.27 Q1859.33 1538.71 1859.33 1531.6 Q1859.33 1524.47 1857.51 1520.93 Q1855.7 1517.37 1852.07 1517.37 M1852.07 1513.66 Q1857.88 1513.66 1860.93 1518.27 Q1864.01 1522.85 1864.01 1531.6 Q1864.01 1540.33 1860.93 1544.94 Q1857.88 1549.52 1852.07 1549.52 Q1846.26 1549.52 1843.18 1544.94 Q1840.12 1540.33 1840.12 1531.6 Q1840.12 1522.85 1843.18 1518.27 Q1846.26 1513.66 1852.07 1513.66 Z\" fill=\"#000000\" fill-rule=\"nonzero\" fill-opacity=\"1\" /><path clip-path=\"url(#clip610)\" d=\"M2147.08 1529.7 Q2143.93 1529.7 2142.08 1531.86 Q2140.25 1534.01 2140.25 1537.76 Q2140.25 1541.49 2142.08 1543.66 Q2143.93 1545.82 2147.08 1545.82 Q2150.23 1545.82 2152.05 1543.66 Q2153.91 1541.49 2153.91 1537.76 Q2153.91 1534.01 2152.05 1531.86 Q2150.23 1529.7 2147.08 1529.7 M2156.36 1515.05 L2156.36 1519.31 Q2154.6 1518.48 2152.79 1518.04 Q2151.01 1517.6 2149.25 1517.6 Q2144.62 1517.6 2142.17 1520.72 Q2139.74 1523.85 2139.39 1530.17 Q2140.76 1528.15 2142.82 1527.09 Q2144.88 1526 2147.36 1526 Q2152.56 1526 2155.57 1529.17 Q2158.6 1532.32 2158.6 1537.76 Q2158.6 1543.08 2155.46 1546.3 Q2152.31 1549.52 2147.08 1549.52 Q2141.08 1549.52 2137.91 1544.94 Q2134.74 1540.33 2134.74 1531.6 Q2134.74 1523.41 2138.63 1518.55 Q2142.52 1513.66 2149.07 1513.66 Q2150.83 1513.66 2152.61 1514.01 Q2154.42 1514.36 2156.36 1515.05 Z\" fill=\"#000000\" fill-rule=\"nonzero\" fill-opacity=\"1\" /><path clip-path=\"url(#clip610)\" d=\"M2176.66 1517.37 Q2173.05 1517.37 2171.22 1520.93 Q2169.42 1524.47 2169.42 1531.6 Q2169.42 1538.71 2171.22 1542.27 Q2173.05 1545.82 2176.66 1545.82 Q2180.29 1545.82 2182.1 1542.27 Q2183.93 1538.71 2183.93 1531.6 Q2183.93 1524.47 2182.1 1520.93 Q2180.29 1517.37 2176.66 1517.37 M2176.66 1513.66 Q2182.47 1513.66 2185.53 1518.27 Q2188.6 1522.85 2188.6 1531.6 Q2188.6 1540.33 2185.53 1544.94 Q2182.47 1549.52 2176.66 1549.52 Q2170.85 1549.52 2167.77 1544.94 Q2164.72 1540.33 2164.72 1531.6 Q2164.72 1522.85 2167.77 1518.27 Q2170.85 1513.66 2176.66 1513.66 Z\" fill=\"#000000\" fill-rule=\"nonzero\" fill-opacity=\"1\" /><polyline clip-path=\"url(#clip610)\" style=\"stroke:#000000; stroke-linecap:round; stroke-linejoin:round; stroke-width:4; stroke-opacity:1; fill:none\" points=\"186.274,1486.45 186.274,47.2441 \"/>\n",
       "<polyline clip-path=\"url(#clip610)\" style=\"stroke:#000000; stroke-linecap:round; stroke-linejoin:round; stroke-width:4; stroke-opacity:1; fill:none\" points=\"186.274,1452.16 205.172,1452.16 \"/>\n",
       "<polyline clip-path=\"url(#clip610)\" style=\"stroke:#000000; stroke-linecap:round; stroke-linejoin:round; stroke-width:4; stroke-opacity:1; fill:none\" points=\"186.274,1111.11 205.172,1111.11 \"/>\n",
       "<polyline clip-path=\"url(#clip610)\" style=\"stroke:#000000; stroke-linecap:round; stroke-linejoin:round; stroke-width:4; stroke-opacity:1; fill:none\" points=\"186.274,770.067 205.172,770.067 \"/>\n",
       "<polyline clip-path=\"url(#clip610)\" style=\"stroke:#000000; stroke-linecap:round; stroke-linejoin:round; stroke-width:4; stroke-opacity:1; fill:none\" points=\"186.274,429.022 205.172,429.022 \"/>\n",
       "<polyline clip-path=\"url(#clip610)\" style=\"stroke:#000000; stroke-linecap:round; stroke-linejoin:round; stroke-width:4; stroke-opacity:1; fill:none\" points=\"186.274,87.9763 205.172,87.9763 \"/>\n",
       "<path clip-path=\"url(#clip610)\" d=\"M62.9365 1437.96 Q59.3254 1437.96 57.4967 1441.52 Q55.6912 1445.06 55.6912 1452.19 Q55.6912 1459.3 57.4967 1462.86 Q59.3254 1466.41 62.9365 1466.41 Q66.5707 1466.41 68.3763 1462.86 Q70.205 1459.3 70.205 1452.19 Q70.205 1445.06 68.3763 1441.52 Q66.5707 1437.96 62.9365 1437.96 M62.9365 1434.25 Q68.7467 1434.25 71.8022 1438.86 Q74.8809 1443.44 74.8809 1452.19 Q74.8809 1460.92 71.8022 1465.53 Q68.7467 1470.11 62.9365 1470.11 Q57.1264 1470.11 54.0477 1465.53 Q50.9921 1460.92 50.9921 1452.19 Q50.9921 1443.44 54.0477 1438.86 Q57.1264 1434.25 62.9365 1434.25 Z\" fill=\"#000000\" fill-rule=\"nonzero\" fill-opacity=\"1\" /><path clip-path=\"url(#clip610)\" d=\"M83.0984 1463.56 L87.9827 1463.56 L87.9827 1469.44 L83.0984 1469.44 L83.0984 1463.56 Z\" fill=\"#000000\" fill-rule=\"nonzero\" fill-opacity=\"1\" /><path clip-path=\"url(#clip610)\" d=\"M108.168 1437.96 Q104.557 1437.96 102.728 1441.52 Q100.922 1445.06 100.922 1452.19 Q100.922 1459.3 102.728 1462.86 Q104.557 1466.41 108.168 1466.41 Q111.802 1466.41 113.608 1462.86 Q115.436 1459.3 115.436 1452.19 Q115.436 1445.06 113.608 1441.52 Q111.802 1437.96 108.168 1437.96 M108.168 1434.25 Q113.978 1434.25 117.033 1438.86 Q120.112 1443.44 120.112 1452.19 Q120.112 1460.92 117.033 1465.53 Q113.978 1470.11 108.168 1470.11 Q102.358 1470.11 99.2789 1465.53 Q96.2234 1460.92 96.2234 1452.19 Q96.2234 1443.44 99.2789 1438.86 Q102.358 1434.25 108.168 1434.25 Z\" fill=\"#000000\" fill-rule=\"nonzero\" fill-opacity=\"1\" /><path clip-path=\"url(#clip610)\" d=\"M138.33 1437.96 Q134.719 1437.96 132.89 1441.52 Q131.084 1445.06 131.084 1452.19 Q131.084 1459.3 132.89 1462.86 Q134.719 1466.41 138.33 1466.41 Q141.964 1466.41 143.769 1462.86 Q145.598 1459.3 145.598 1452.19 Q145.598 1445.06 143.769 1441.52 Q141.964 1437.96 138.33 1437.96 M138.33 1434.25 Q144.14 1434.25 147.195 1438.86 Q150.274 1443.44 150.274 1452.19 Q150.274 1460.92 147.195 1465.53 Q144.14 1470.11 138.33 1470.11 Q132.519 1470.11 129.441 1465.53 Q126.385 1460.92 126.385 1452.19 Q126.385 1443.44 129.441 1438.86 Q132.519 1434.25 138.33 1434.25 Z\" fill=\"#000000\" fill-rule=\"nonzero\" fill-opacity=\"1\" /><path clip-path=\"url(#clip610)\" d=\"M63.9319 1096.91 Q60.3208 1096.91 58.4921 1100.48 Q56.6865 1104.02 56.6865 1111.15 Q56.6865 1118.25 58.4921 1121.82 Q60.3208 1125.36 63.9319 1125.36 Q67.5661 1125.36 69.3717 1121.82 Q71.2004 1118.25 71.2004 1111.15 Q71.2004 1104.02 69.3717 1100.48 Q67.5661 1096.91 63.9319 1096.91 M63.9319 1093.21 Q69.742 1093.21 72.7976 1097.81 Q75.8763 1102.4 75.8763 1111.15 Q75.8763 1119.87 72.7976 1124.48 Q69.742 1129.06 63.9319 1129.06 Q58.1217 1129.06 55.043 1124.48 Q51.9875 1119.87 51.9875 1111.15 Q51.9875 1102.4 55.043 1097.81 Q58.1217 1093.21 63.9319 1093.21 Z\" fill=\"#000000\" fill-rule=\"nonzero\" fill-opacity=\"1\" /><path clip-path=\"url(#clip610)\" d=\"M84.0938 1122.51 L88.978 1122.51 L88.978 1128.39 L84.0938 1128.39 L84.0938 1122.51 Z\" fill=\"#000000\" fill-rule=\"nonzero\" fill-opacity=\"1\" /><path clip-path=\"url(#clip610)\" d=\"M103.191 1124.46 L119.51 1124.46 L119.51 1128.39 L97.566 1128.39 L97.566 1124.46 Q100.228 1121.7 104.811 1117.07 Q109.418 1112.42 110.598 1111.08 Q112.844 1108.55 113.723 1106.82 Q114.626 1105.06 114.626 1103.37 Q114.626 1100.61 112.682 1098.88 Q110.76 1097.14 107.658 1097.14 Q105.459 1097.14 103.006 1097.91 Q100.575 1098.67 97.7974 1100.22 L97.7974 1095.5 Q100.621 1094.36 103.075 1093.79 Q105.529 1093.21 107.566 1093.21 Q112.936 1093.21 116.131 1095.89 Q119.325 1098.58 119.325 1103.07 Q119.325 1105.2 118.515 1107.12 Q117.728 1109.02 115.621 1111.61 Q115.043 1112.28 111.941 1115.5 Q108.839 1118.69 103.191 1124.46 Z\" fill=\"#000000\" fill-rule=\"nonzero\" fill-opacity=\"1\" /><path clip-path=\"url(#clip610)\" d=\"M129.371 1093.83 L147.728 1093.83 L147.728 1097.77 L133.654 1097.77 L133.654 1106.24 Q134.672 1105.89 135.691 1105.73 Q136.709 1105.55 137.728 1105.55 Q143.515 1105.55 146.894 1108.72 Q150.274 1111.89 150.274 1117.3 Q150.274 1122.88 146.802 1125.99 Q143.33 1129.06 137.01 1129.06 Q134.834 1129.06 132.566 1128.69 Q130.32 1128.32 127.913 1127.58 L127.913 1122.88 Q129.996 1124.02 132.219 1124.57 Q134.441 1125.13 136.918 1125.13 Q140.922 1125.13 143.26 1123.02 Q145.598 1120.92 145.598 1117.3 Q145.598 1113.69 143.26 1111.59 Q140.922 1109.48 136.918 1109.48 Q135.043 1109.48 133.168 1109.9 Q131.316 1110.31 129.371 1111.19 L129.371 1093.83 Z\" fill=\"#000000\" fill-rule=\"nonzero\" fill-opacity=\"1\" /><path clip-path=\"url(#clip610)\" d=\"M62.9365 755.866 Q59.3254 755.866 57.4967 759.431 Q55.6912 762.972 55.6912 770.102 Q55.6912 777.208 57.4967 780.773 Q59.3254 784.315 62.9365 784.315 Q66.5707 784.315 68.3763 780.773 Q70.205 777.208 70.205 770.102 Q70.205 762.972 68.3763 759.431 Q66.5707 755.866 62.9365 755.866 M62.9365 752.162 Q68.7467 752.162 71.8022 756.769 Q74.8809 761.352 74.8809 770.102 Q74.8809 778.829 71.8022 783.435 Q68.7467 788.018 62.9365 788.018 Q57.1264 788.018 54.0477 783.435 Q50.9921 778.829 50.9921 770.102 Q50.9921 761.352 54.0477 756.769 Q57.1264 752.162 62.9365 752.162 Z\" fill=\"#000000\" fill-rule=\"nonzero\" fill-opacity=\"1\" /><path clip-path=\"url(#clip610)\" d=\"M83.0984 781.467 L87.9827 781.467 L87.9827 787.347 L83.0984 787.347 L83.0984 781.467 Z\" fill=\"#000000\" fill-rule=\"nonzero\" fill-opacity=\"1\" /><path clip-path=\"url(#clip610)\" d=\"M98.2141 752.787 L116.57 752.787 L116.57 756.722 L102.496 756.722 L102.496 765.194 Q103.515 764.847 104.534 764.685 Q105.552 764.5 106.571 764.5 Q112.358 764.5 115.737 767.671 Q119.117 770.843 119.117 776.259 Q119.117 781.838 115.645 784.94 Q112.172 788.018 105.853 788.018 Q103.677 788.018 101.409 787.648 Q99.1632 787.278 96.7558 786.537 L96.7558 781.838 Q98.8391 782.972 101.061 783.528 Q103.284 784.083 105.76 784.083 Q109.765 784.083 112.103 781.977 Q114.441 779.87 114.441 776.259 Q114.441 772.648 112.103 770.542 Q109.765 768.435 105.76 768.435 Q103.885 768.435 102.01 768.852 Q100.159 769.268 98.2141 770.148 L98.2141 752.787 Z\" fill=\"#000000\" fill-rule=\"nonzero\" fill-opacity=\"1\" /><path clip-path=\"url(#clip610)\" d=\"M138.33 755.866 Q134.719 755.866 132.89 759.431 Q131.084 762.972 131.084 770.102 Q131.084 777.208 132.89 780.773 Q134.719 784.315 138.33 784.315 Q141.964 784.315 143.769 780.773 Q145.598 777.208 145.598 770.102 Q145.598 762.972 143.769 759.431 Q141.964 755.866 138.33 755.866 M138.33 752.162 Q144.14 752.162 147.195 756.769 Q150.274 761.352 150.274 770.102 Q150.274 778.829 147.195 783.435 Q144.14 788.018 138.33 788.018 Q132.519 788.018 129.441 783.435 Q126.385 778.829 126.385 770.102 Q126.385 761.352 129.441 756.769 Q132.519 752.162 138.33 752.162 Z\" fill=\"#000000\" fill-rule=\"nonzero\" fill-opacity=\"1\" /><path clip-path=\"url(#clip610)\" d=\"M63.9319 414.82 Q60.3208 414.82 58.4921 418.385 Q56.6865 421.927 56.6865 429.056 Q56.6865 436.163 58.4921 439.728 Q60.3208 443.269 63.9319 443.269 Q67.5661 443.269 69.3717 439.728 Q71.2004 436.163 71.2004 429.056 Q71.2004 421.927 69.3717 418.385 Q67.5661 414.82 63.9319 414.82 M63.9319 411.117 Q69.742 411.117 72.7976 415.723 Q75.8763 420.306 75.8763 429.056 Q75.8763 437.783 72.7976 442.39 Q69.742 446.973 63.9319 446.973 Q58.1217 446.973 55.043 442.39 Q51.9875 437.783 51.9875 429.056 Q51.9875 420.306 55.043 415.723 Q58.1217 411.117 63.9319 411.117 Z\" fill=\"#000000\" fill-rule=\"nonzero\" fill-opacity=\"1\" /><path clip-path=\"url(#clip610)\" d=\"M84.0938 440.422 L88.978 440.422 L88.978 446.302 L84.0938 446.302 L84.0938 440.422 Z\" fill=\"#000000\" fill-rule=\"nonzero\" fill-opacity=\"1\" /><path clip-path=\"url(#clip610)\" d=\"M97.9826 411.742 L120.205 411.742 L120.205 413.732 L107.658 446.302 L102.774 446.302 L114.58 415.677 L97.9826 415.677 L97.9826 411.742 Z\" fill=\"#000000\" fill-rule=\"nonzero\" fill-opacity=\"1\" /><path clip-path=\"url(#clip610)\" d=\"M129.371 411.742 L147.728 411.742 L147.728 415.677 L133.654 415.677 L133.654 424.149 Q134.672 423.802 135.691 423.64 Q136.709 423.455 137.728 423.455 Q143.515 423.455 146.894 426.626 Q150.274 429.797 150.274 435.214 Q150.274 440.792 146.802 443.894 Q143.33 446.973 137.01 446.973 Q134.834 446.973 132.566 446.603 Q130.32 446.232 127.913 445.491 L127.913 440.792 Q129.996 441.927 132.219 442.482 Q134.441 443.038 136.918 443.038 Q140.922 443.038 143.26 440.931 Q145.598 438.825 145.598 435.214 Q145.598 431.603 143.26 429.496 Q140.922 427.39 136.918 427.39 Q135.043 427.39 133.168 427.806 Q131.316 428.223 129.371 429.103 L129.371 411.742 Z\" fill=\"#000000\" fill-rule=\"nonzero\" fill-opacity=\"1\" /><path clip-path=\"url(#clip610)\" d=\"M53.7467 101.321 L61.3856 101.321 L61.3856 74.9555 L53.0754 76.6222 L53.0754 72.3629 L61.3393 70.6963 L66.0152 70.6963 L66.0152 101.321 L73.654 101.321 L73.654 105.256 L53.7467 105.256 L53.7467 101.321 Z\" fill=\"#000000\" fill-rule=\"nonzero\" fill-opacity=\"1\" /><path clip-path=\"url(#clip610)\" d=\"M83.0984 99.3767 L87.9827 99.3767 L87.9827 105.256 L83.0984 105.256 L83.0984 99.3767 Z\" fill=\"#000000\" fill-rule=\"nonzero\" fill-opacity=\"1\" /><path clip-path=\"url(#clip610)\" d=\"M108.168 73.775 Q104.557 73.775 102.728 77.3398 Q100.922 80.8814 100.922 88.011 Q100.922 95.1174 102.728 98.6822 Q104.557 102.224 108.168 102.224 Q111.802 102.224 113.608 98.6822 Q115.436 95.1174 115.436 88.011 Q115.436 80.8814 113.608 77.3398 Q111.802 73.775 108.168 73.775 M108.168 70.0713 Q113.978 70.0713 117.033 74.6777 Q120.112 79.261 120.112 88.011 Q120.112 96.7378 117.033 101.344 Q113.978 105.928 108.168 105.928 Q102.358 105.928 99.2789 101.344 Q96.2234 96.7378 96.2234 88.011 Q96.2234 79.261 99.2789 74.6777 Q102.358 70.0713 108.168 70.0713 Z\" fill=\"#000000\" fill-rule=\"nonzero\" fill-opacity=\"1\" /><path clip-path=\"url(#clip610)\" d=\"M138.33 73.775 Q134.719 73.775 132.89 77.3398 Q131.084 80.8814 131.084 88.011 Q131.084 95.1174 132.89 98.6822 Q134.719 102.224 138.33 102.224 Q141.964 102.224 143.769 98.6822 Q145.598 95.1174 145.598 88.011 Q145.598 80.8814 143.769 77.3398 Q141.964 73.775 138.33 73.775 M138.33 70.0713 Q144.14 70.0713 147.195 74.6777 Q150.274 79.261 150.274 88.011 Q150.274 96.7378 147.195 101.344 Q144.14 105.928 138.33 105.928 Q132.519 105.928 129.441 101.344 Q126.385 96.7378 126.385 88.011 Q126.385 79.261 129.441 74.6777 Q132.519 70.0713 138.33 70.0713 Z\" fill=\"#000000\" fill-rule=\"nonzero\" fill-opacity=\"1\" /><polyline clip-path=\"url(#clip612)\" style=\"stroke:#009af9; stroke-linecap:round; stroke-linejoin:round; stroke-width:4; stroke-opacity:1; fill:none\" points=\"247.59,87.9763 280.032,87.9763 312.474,87.9763 344.916,87.9763 377.358,87.9763 409.8,360.813 442.242,360.813 474.684,360.813 507.126,360.813 539.568,579.082 572.01,579.082 604.452,753.697 636.894,753.697 669.337,753.697 701.779,753.697 734.221,753.697 766.663,893.389 799.105,893.389 831.547,893.389 863.989,893.389 896.431,893.389 928.873,893.389 961.315,893.389 993.757,893.389 1026.2,893.389 1058.64,893.389 1091.08,893.389 1123.53,893.389 1155.97,893.389 1188.41,893.389 1220.85,893.389 1253.29,893.389 1285.74,893.389 1318.18,893.389 1350.62,893.389 1383.06,893.389 1415.5,1005.14 1447.95,1094.55 1480.39,1094.55 1512.83,1094.55 1545.27,1094.55 1577.71,1094.55 1610.16,1166.07 1642.6,1166.07 1675.04,1166.07 1707.48,1223.29 1739.93,1223.29 1772.37,1223.29 1804.81,1223.29 1837.25,1223.29 1869.69,1223.29 1902.14,1223.29 1934.58,1223.29 1967.02,1223.29 1999.46,1223.29 2031.9,1223.29 2064.35,1223.29 2096.79,1223.29 2129.23,1223.29 2161.67,1223.29 2194.11,1223.29 2226.56,1223.29 2259,1223.29 2291.44,1223.29 \"/>\n",
       "<polyline clip-path=\"url(#clip612)\" style=\"stroke:#000080; stroke-linecap:round; stroke-linejoin:round; stroke-width:4; stroke-opacity:1; fill:none\" points=\"247.59,87.9763 280.032,360.813 312.474,360.813 344.916,360.813 377.358,360.813 409.8,579.082 442.242,579.082 474.684,579.082 507.126,579.082 539.568,753.697 572.01,753.697 604.452,753.697 636.894,893.389 669.337,893.389 701.779,893.389 734.221,893.389 766.663,1005.14 799.105,1005.14 831.547,1005.14 863.989,1005.14 896.431,1005.14 928.873,1005.14 961.315,1005.14 993.757,1005.14 1026.2,1005.14 1058.64,1005.14 1091.08,1005.14 1123.53,1005.14 1155.97,1005.14 1188.41,1005.14 1220.85,1005.14 1253.29,1094.55 1285.74,1166.07 1318.18,1166.07 1350.62,1166.07 1383.06,1166.07 1415.5,1166.07 1447.95,1223.29 1480.39,1269.06 1512.83,1269.06 1545.27,1269.06 1577.71,1269.06 1610.16,1305.68 1642.6,1305.68 1675.04,1305.68 1707.48,1334.98 1739.93,1334.98 1772.37,1334.98 1804.81,1334.98 1837.25,1334.98 1869.69,1334.98 1902.14,1358.41 1934.58,1358.41 1967.02,1358.41 1999.46,1358.41 2031.9,1377.16 2064.35,1377.16 2096.79,1377.16 2129.23,1377.16 2161.67,1392.16 2194.11,1392.16 2226.56,1404.16 2259,1413.76 2291.44,1413.76 \"/>\n",
       "<polyline clip-path=\"url(#clip612)\" style=\"stroke:#ff0000; stroke-linecap:round; stroke-linejoin:round; stroke-width:4; stroke-opacity:1; fill:none\" points=\"247.59,87.9763 280.032,87.9763 312.474,87.9763 344.916,360.813 377.358,579.082 409.8,753.697 442.242,753.697 474.684,753.697 507.126,893.389 539.568,893.389 572.01,893.389 604.452,893.389 636.894,1005.14 669.337,1005.14 701.779,1005.14 734.221,1005.14 766.663,1005.14 799.105,1005.14 831.547,1005.14 863.989,1005.14 896.431,1005.14 928.873,1005.14 961.315,1094.55 993.757,1166.07 1026.2,1166.07 1058.64,1166.07 1091.08,1166.07 1123.53,1166.07 1155.97,1166.07 1188.41,1166.07 1220.85,1223.29 1253.29,1223.29 1285.74,1223.29 1318.18,1269.06 1350.62,1269.06 1383.06,1269.06 1415.5,1305.68 1447.95,1334.98 1480.39,1334.98 1512.83,1334.98 1545.27,1334.98 1577.71,1358.41 1610.16,1377.16 1642.6,1377.16 1675.04,1377.16 1707.48,1392.16 1739.93,1404.16 1772.37,1404.16 1804.81,1404.16 1837.25,1413.76 1869.69,1413.76 1902.14,1413.76 1934.58,1421.44 1967.02,1427.58 1999.46,1432.5 2031.9,1432.5 2064.35,1436.43 2096.79,1436.43 2129.23,1439.58 2161.67,1439.58 2194.11,1439.58 2226.56,1442.09 2259,1444.11 2291.44,1445.72 \"/>\n",
       "<path clip-path=\"url(#clip610)\" d=\"M2010.88 302.578 L2280.54 302.578 L2280.54 95.2176 L2010.88 95.2176  Z\" fill=\"#ffffff\" fill-rule=\"evenodd\" fill-opacity=\"1\"/>\n",
       "<polyline clip-path=\"url(#clip610)\" style=\"stroke:#000000; stroke-linecap:round; stroke-linejoin:round; stroke-width:4; stroke-opacity:1; fill:none\" points=\"2010.88,302.578 2280.54,302.578 2280.54,95.2176 2010.88,95.2176 2010.88,302.578 \"/>\n",
       "<polyline clip-path=\"url(#clip610)\" style=\"stroke:#009af9; stroke-linecap:round; stroke-linejoin:round; stroke-width:4; stroke-opacity:1; fill:none\" points=\"2034.95,147.058 2179.39,147.058 \"/>\n",
       "<path clip-path=\"url(#clip610)\" d=\"M2217.3 166.745 Q2215.5 171.375 2213.78 172.787 Q2212.07 174.199 2209.2 174.199 L2205.8 174.199 L2205.8 170.634 L2208.3 170.634 Q2210.06 170.634 2211.03 169.8 Q2212 168.967 2213.18 165.865 L2213.94 163.921 L2203.46 138.412 L2207.97 138.412 L2216.07 158.689 L2224.18 138.412 L2228.69 138.412 L2217.3 166.745 Z\" fill=\"#000000\" fill-rule=\"nonzero\" fill-opacity=\"1\" /><path clip-path=\"url(#clip610)\" d=\"M2235.98 160.402 L2243.62 160.402 L2243.62 134.037 L2235.31 135.703 L2235.31 131.444 L2243.57 129.778 L2248.25 129.778 L2248.25 160.402 L2255.89 160.402 L2255.89 164.338 L2235.98 164.338 L2235.98 160.402 Z\" fill=\"#000000\" fill-rule=\"nonzero\" fill-opacity=\"1\" /><polyline clip-path=\"url(#clip610)\" style=\"stroke:#000080; stroke-linecap:round; stroke-linejoin:round; stroke-width:4; stroke-opacity:1; fill:none\" points=\"2034.95,198.898 2179.39,198.898 \"/>\n",
       "<path clip-path=\"url(#clip610)\" d=\"M2217.3 218.585 Q2215.5 223.215 2213.78 224.627 Q2212.07 226.039 2209.2 226.039 L2205.8 226.039 L2205.8 222.474 L2208.3 222.474 Q2210.06 222.474 2211.03 221.64 Q2212 220.807 2213.18 217.705 L2213.94 215.761 L2203.46 190.252 L2207.97 190.252 L2216.07 210.529 L2224.18 190.252 L2228.69 190.252 L2217.3 218.585 Z\" fill=\"#000000\" fill-rule=\"nonzero\" fill-opacity=\"1\" /><path clip-path=\"url(#clip610)\" d=\"M2239.2 212.242 L2255.52 212.242 L2255.52 216.178 L2233.57 216.178 L2233.57 212.242 Q2236.24 209.488 2240.82 204.858 Q2245.43 200.205 2246.61 198.863 Q2248.85 196.34 2249.73 194.604 Q2250.63 192.844 2250.63 191.155 Q2250.63 188.4 2248.69 186.664 Q2246.77 184.928 2243.67 184.928 Q2241.47 184.928 2239.01 185.692 Q2236.58 186.455 2233.81 188.006 L2233.81 183.284 Q2236.63 182.15 2239.08 181.571 Q2241.54 180.993 2243.57 180.993 Q2248.94 180.993 2252.14 183.678 Q2255.33 186.363 2255.33 190.854 Q2255.33 192.983 2254.52 194.905 Q2253.74 196.803 2251.63 199.395 Q2251.05 200.067 2247.95 203.284 Q2244.85 206.479 2239.2 212.242 Z\" fill=\"#000000\" fill-rule=\"nonzero\" fill-opacity=\"1\" /><polyline clip-path=\"url(#clip610)\" style=\"stroke:#ff0000; stroke-linecap:round; stroke-linejoin:round; stroke-width:4; stroke-opacity:1; fill:none\" points=\"2034.95,250.738 2179.39,250.738 \"/>\n",
       "<path clip-path=\"url(#clip610)\" d=\"M2217.3 270.425 Q2215.5 275.055 2213.78 276.467 Q2212.07 277.879 2209.2 277.879 L2205.8 277.879 L2205.8 274.314 L2208.3 274.314 Q2210.06 274.314 2211.03 273.48 Q2212 272.647 2213.18 269.545 L2213.94 267.601 L2203.46 242.092 L2207.97 242.092 L2216.07 262.369 L2224.18 242.092 L2228.69 242.092 L2217.3 270.425 Z\" fill=\"#000000\" fill-rule=\"nonzero\" fill-opacity=\"1\" /><path clip-path=\"url(#clip610)\" d=\"M2249.34 249.383 Q2252.69 250.101 2254.57 252.369 Q2256.47 254.638 2256.47 257.971 Q2256.47 263.087 2252.95 265.888 Q2249.43 268.689 2242.95 268.689 Q2240.77 268.689 2238.46 268.249 Q2236.17 267.832 2233.71 266.976 L2233.71 262.462 Q2235.66 263.596 2237.97 264.175 Q2240.29 264.754 2242.81 264.754 Q2247.21 264.754 2249.5 263.018 Q2251.82 261.281 2251.82 257.971 Q2251.82 254.916 2249.66 253.203 Q2247.53 251.467 2243.71 251.467 L2239.69 251.467 L2239.69 247.624 L2243.9 247.624 Q2247.35 247.624 2249.18 246.258 Q2251 244.87 2251 242.277 Q2251 239.615 2249.11 238.203 Q2247.23 236.768 2243.71 236.768 Q2241.79 236.768 2239.59 237.184 Q2237.39 237.601 2234.75 238.481 L2234.75 234.314 Q2237.42 233.573 2239.73 233.203 Q2242.07 232.833 2244.13 232.833 Q2249.45 232.833 2252.56 235.263 Q2255.66 237.67 2255.66 241.791 Q2255.66 244.661 2254.01 246.652 Q2252.37 248.62 2249.34 249.383 Z\" fill=\"#000000\" fill-rule=\"nonzero\" fill-opacity=\"1\" /></svg>\n"
      ]
     },
     "execution_count": 31,
     "metadata": {},
     "output_type": "execute_result"
    }
   ],
   "source": [
    "let\n",
    "    plot(weights[:,1])\n",
    "    plot!(weights[:,2],c=:navy)\n",
    "    plot!(weights[:,3],c=:red)\n",
    "end"
   ]
  },
  {
   "cell_type": "markdown",
   "id": "022fc240-a101-469d-a28f-8b1b7448eb74",
   "metadata": {},
   "source": [
    "## Task 3: Test the theoretical mistake bound\n",
    "__Theorem__: The weighted majority algorithm has the following theoretical guarantee (which bounds the number of mistakes the aggregator makes). Let $m_{i}^{(t)}$ be the number of mistakes made by expert $i$ up to time $t$ and $m^{(t)}$ be the total number of mistakes made by the aggregator (us) up to time $t$. Then, for every expert $i$ and the aggregator, we have:\n",
    "$$\n",
    "\\begin{align*}\n",
    "m^{(t)} \\leq \\frac{2\\ln(n)}{\\epsilon} + 2\\left(1+\\epsilon\\right)m_{i}^{(t)}\n",
    "\\end{align*}\n",
    "$$"
   ]
  },
  {
   "cell_type": "markdown",
   "id": "7183b739-7b96-4eee-b0e9-12d34cabff63",
   "metadata": {},
   "source": [
    "### What is the best expert in hindsight?\n",
    "The best expert will be the one with the highest weight at the end of the game."
   ]
  },
  {
   "cell_type": "code",
   "execution_count": 34,
   "id": "1638bf19-e0ec-4884-9eba-cb547123641e",
   "metadata": {},
   "outputs": [
    {
     "data": {
      "text/plain": [
       "1"
      ]
     },
     "execution_count": 34,
     "metadata": {},
     "output_type": "execute_result"
    }
   ],
   "source": [
    "î = argmax(weights[end,:])"
   ]
  },
  {
   "cell_type": "markdown",
   "id": "b48184e5-a43f-4833-a702-3814c3bad1e3",
   "metadata": {},
   "source": [
    "Compute the number of mistakes by our exports "
   ]
  },
  {
   "cell_type": "code",
   "execution_count": 36,
   "id": "1c0f7018-8407-446d-8529-ca1ab63cd330",
   "metadata": {},
   "outputs": [
    {
     "data": {
      "text/plain": [
       "63×3 Matrix{Int64}:\n",
       " 0  1  0\n",
       " 0  0  0\n",
       " 0  0  1\n",
       " 0  0  1\n",
       " 1  1  1\n",
       " 0  0  0\n",
       " 0  0  0\n",
       " 0  0  1\n",
       " 1  1  0\n",
       " 0  0  0\n",
       " 1  0  0\n",
       " 0  1  1\n",
       " 0  0  0\n",
       " ⋮     \n",
       " 0  0  1\n",
       " 0  0  1\n",
       " 0  0  1\n",
       " 0  1  0\n",
       " 0  0  1\n",
       " 0  0  0\n",
       " 0  0  1\n",
       " 0  1  0\n",
       " 0  0  0\n",
       " 0  1  1\n",
       " 0  1  1\n",
       " 0  0  1"
      ]
     },
     "execution_count": 36,
     "metadata": {},
     "output_type": "execute_result"
    }
   ],
   "source": [
    "m_experts = let\n",
    "\n",
    "    # data -\n",
    "    n = model.n; # number of experts\n",
    "    T = model.T; # number of rounds in the game\n",
    "    m = Array{Int64,2}(undef, T, n);\n",
    "\n",
    "    for t ∈ 1:T\n",
    "        for j ∈ 1:n\n",
    "            expert_prediction = sims[t,j];\n",
    "            adversary_prediction = sims[t,end-1]; # adv is the penultimate column\n",
    "            m[t,j] = expert_prediction == adversary_prediction ? 0 : 1\n",
    "        end\n",
    "    end\n",
    "\n",
    "    # return \n",
    "    m\n",
    "end"
   ]
  },
  {
   "cell_type": "markdown",
   "id": "0ae64ec8-89c4-4ecf-8ad0-2115538b601d",
   "metadata": {},
   "source": [
    "### Compute the bound"
   ]
  },
  {
   "cell_type": "code",
   "execution_count": 38,
   "id": "658222f2-35f8-499b-b025-8beaab8401a0",
   "metadata": {},
   "outputs": [],
   "source": [
    "L,R = let\n",
    "\n",
    "    # data -\n",
    "    n = model.n; # number of experts\n",
    "    T = model.T; # number of rounds in the game\n",
    "    ϵ = model.ϵ; # Get the learning rate\n",
    "    L = Array{Float64,1}(undef, T); # left term\n",
    "    R = Array{Float64,1}(undef, T); # right term\n",
    "    m_aggregartor = sims[:,end]; # aggregator mistakes on the last column\n",
    "    m_expert = m_experts[:,î]; # best expert\n",
    "\n",
    "    # compute the left term L\n",
    "    for t ∈ 1:T\n",
    "        L[t] = sum(m_aggregartor[1:t]);\n",
    "    end\n",
    "    \n",
    "    # compute the right term R\n",
    "    for t ∈ 1:T\n",
    "        R[t] = (2*log(n)/ϵ) + 2*(1+ϵ)*sum(m_expert[1:t])\n",
    "    end\n",
    "    \n",
    "    L,R\n",
    "end;"
   ]
  },
  {
   "cell_type": "code",
   "execution_count": 39,
   "id": "4960b129-ff91-4d4a-8e79-b433c3a77cfb",
   "metadata": {},
   "outputs": [
    {
     "data": {
      "image/png": "[encoded data removed]",
      "image/svg+xml": [
       "<?xml version=\"1.0\" encoding=\"utf-8\"?>\n",
       "<svg xmlns=\"http://www.w3.org/2000/svg\" xmlns:xlink=\"http://www.w3.org/1999/xlink\" width=\"600\" height=\"400\" viewBox=\"0 0 2400 1600\">\n",
       "<defs>\n",
       "  <clipPath id=\"clip650\">\n",
       "    <rect x=\"0\" y=\"0\" width=\"2400\" height=\"1600\"/>\n",
       "  </clipPath>\n",
       "</defs>\n",
       "<path clip-path=\"url(#clip650)\" d=\"M0 1600 L2400 1600 L2400 8.88178e-14 L0 8.88178e-14  Z\" fill=\"#ffffff\" fill-rule=\"evenodd\" fill-opacity=\"1\"/>\n",
       "<defs>\n",
       "  <clipPath id=\"clip651\">\n",
       "    <rect x=\"480\" y=\"0\" width=\"1681\" height=\"1600\"/>\n",
       "  </clipPath>\n",
       "</defs>\n",
       "<path clip-path=\"url(#clip650)\" d=\"M140.696 1486.45 L2352.76 1486.45 L2352.76 47.2441 L140.696 47.2441  Z\" fill=\"#ffffff\" fill-rule=\"evenodd\" fill-opacity=\"1\"/>\n",
       "<defs>\n",
       "  <clipPath id=\"clip652\">\n",
       "    <rect x=\"140\" y=\"47\" width=\"2213\" height=\"1440\"/>\n",
       "  </clipPath>\n",
       "</defs>\n",
       "<polyline clip-path=\"url(#clip652)\" style=\"stroke:#000000; stroke-linecap:round; stroke-linejoin:round; stroke-width:2; stroke-opacity:0.1; fill:none\" points=\"169.642,1486.45 169.642,47.2441 \"/>\n",
       "<polyline clip-path=\"url(#clip652)\" style=\"stroke:#000000; stroke-linecap:round; stroke-linejoin:round; stroke-width:2; stroke-opacity:0.1; fill:none\" points=\"506.231,1486.45 506.231,47.2441 \"/>\n",
       "<polyline clip-path=\"url(#clip652)\" style=\"stroke:#000000; stroke-linecap:round; stroke-linejoin:round; stroke-width:2; stroke-opacity:0.1; fill:none\" points=\"842.819,1486.45 842.819,47.2441 \"/>\n",
       "<polyline clip-path=\"url(#clip652)\" style=\"stroke:#000000; stroke-linecap:round; stroke-linejoin:round; stroke-width:2; stroke-opacity:0.1; fill:none\" points=\"1179.41,1486.45 1179.41,47.2441 \"/>\n",
       "<polyline clip-path=\"url(#clip652)\" style=\"stroke:#000000; stroke-linecap:round; stroke-linejoin:round; stroke-width:2; stroke-opacity:0.1; fill:none\" points=\"1516,1486.45 1516,47.2441 \"/>\n",
       "<polyline clip-path=\"url(#clip652)\" style=\"stroke:#000000; stroke-linecap:round; stroke-linejoin:round; stroke-width:2; stroke-opacity:0.1; fill:none\" points=\"1852.59,1486.45 1852.59,47.2441 \"/>\n",
       "<polyline clip-path=\"url(#clip652)\" style=\"stroke:#000000; stroke-linecap:round; stroke-linejoin:round; stroke-width:2; stroke-opacity:0.1; fill:none\" points=\"2189.17,1486.45 2189.17,47.2441 \"/>\n",
       "<polyline clip-path=\"url(#clip652)\" style=\"stroke:#000000; stroke-linecap:round; stroke-linejoin:round; stroke-width:2; stroke-opacity:0.1; fill:none\" points=\"140.696,1445.72 2352.76,1445.72 \"/>\n",
       "<polyline clip-path=\"url(#clip652)\" style=\"stroke:#000000; stroke-linecap:round; stroke-linejoin:round; stroke-width:2; stroke-opacity:0.1; fill:none\" points=\"140.696,995.926 2352.76,995.926 \"/>\n",
       "<polyline clip-path=\"url(#clip652)\" style=\"stroke:#000000; stroke-linecap:round; stroke-linejoin:round; stroke-width:2; stroke-opacity:0.1; fill:none\" points=\"140.696,546.137 2352.76,546.137 \"/>\n",
       "<polyline clip-path=\"url(#clip652)\" style=\"stroke:#000000; stroke-linecap:round; stroke-linejoin:round; stroke-width:2; stroke-opacity:0.1; fill:none\" points=\"140.696,96.3479 2352.76,96.3479 \"/>\n",
       "<polyline clip-path=\"url(#clip650)\" style=\"stroke:#000000; stroke-linecap:round; stroke-linejoin:round; stroke-width:4; stroke-opacity:1; fill:none\" points=\"140.696,1486.45 2352.76,1486.45 \"/>\n",
       "<polyline clip-path=\"url(#clip650)\" style=\"stroke:#000000; stroke-linecap:round; stroke-linejoin:round; stroke-width:4; stroke-opacity:1; fill:none\" points=\"169.642,1486.45 169.642,1467.55 \"/>\n",
       "<polyline clip-path=\"url(#clip650)\" style=\"stroke:#000000; stroke-linecap:round; stroke-linejoin:round; stroke-width:4; stroke-opacity:1; fill:none\" points=\"506.231,1486.45 506.231,1467.55 \"/>\n",
       "<polyline clip-path=\"url(#clip650)\" style=\"stroke:#000000; stroke-linecap:round; stroke-linejoin:round; stroke-width:4; stroke-opacity:1; fill:none\" points=\"842.819,1486.45 842.819,1467.55 \"/>\n",
       "<polyline clip-path=\"url(#clip650)\" style=\"stroke:#000000; stroke-linecap:round; stroke-linejoin:round; stroke-width:4; stroke-opacity:1; fill:none\" points=\"1179.41,1486.45 1179.41,1467.55 \"/>\n",
       "<polyline clip-path=\"url(#clip650)\" style=\"stroke:#000000; stroke-linecap:round; stroke-linejoin:round; stroke-width:4; stroke-opacity:1; fill:none\" points=\"1516,1486.45 1516,1467.55 \"/>\n",
       "<polyline clip-path=\"url(#clip650)\" style=\"stroke:#000000; stroke-linecap:round; stroke-linejoin:round; stroke-width:4; stroke-opacity:1; fill:none\" points=\"1852.59,1486.45 1852.59,1467.55 \"/>\n",
       "<polyline clip-path=\"url(#clip650)\" style=\"stroke:#000000; stroke-linecap:round; stroke-linejoin:round; stroke-width:4; stroke-opacity:1; fill:none\" points=\"2189.17,1486.45 2189.17,1467.55 \"/>\n",
       "<path clip-path=\"url(#clip650)\" d=\"M169.642 1517.37 Q166.031 1517.37 164.202 1520.93 Q162.397 1524.47 162.397 1531.6 Q162.397 1538.71 164.202 1542.27 Q166.031 1545.82 169.642 1545.82 Q173.276 1545.82 175.082 1542.27 Q176.911 1538.71 176.911 1531.6 Q176.911 1524.47 175.082 1520.93 Q173.276 1517.37 169.642 1517.37 M169.642 1513.66 Q175.452 1513.66 178.508 1518.27 Q181.587 1522.85 181.587 1531.6 Q181.587 1540.33 178.508 1544.94 Q175.452 1549.52 169.642 1549.52 Q163.832 1549.52 160.753 1544.94 Q157.698 1540.33 157.698 1531.6 Q157.698 1522.85 160.753 1518.27 Q163.832 1513.66 169.642 1513.66 Z\" fill=\"#000000\" fill-rule=\"nonzero\" fill-opacity=\"1\" /><path clip-path=\"url(#clip650)\" d=\"M480.918 1544.91 L488.557 1544.91 L488.557 1518.55 L480.247 1520.21 L480.247 1515.95 L488.511 1514.29 L493.187 1514.29 L493.187 1544.91 L500.826 1544.91 L500.826 1548.85 L480.918 1548.85 L480.918 1544.91 Z\" fill=\"#000000\" fill-rule=\"nonzero\" fill-opacity=\"1\" /><path clip-path=\"url(#clip650)\" d=\"M520.27 1517.37 Q516.659 1517.37 514.83 1520.93 Q513.025 1524.47 513.025 1531.6 Q513.025 1538.71 514.83 1542.27 Q516.659 1545.82 520.27 1545.82 Q523.904 1545.82 525.71 1542.27 Q527.539 1538.71 527.539 1531.6 Q527.539 1524.47 525.71 1520.93 Q523.904 1517.37 520.27 1517.37 M520.27 1513.66 Q526.08 1513.66 529.136 1518.27 Q532.214 1522.85 532.214 1531.6 Q532.214 1540.33 529.136 1544.94 Q526.08 1549.52 520.27 1549.52 Q514.46 1549.52 511.381 1544.94 Q508.326 1540.33 508.326 1531.6 Q508.326 1522.85 511.381 1518.27 Q514.46 1513.66 520.27 1513.66 Z\" fill=\"#000000\" fill-rule=\"nonzero\" fill-opacity=\"1\" /><path clip-path=\"url(#clip650)\" d=\"M821.593 1544.91 L837.912 1544.91 L837.912 1548.85 L815.968 1548.85 L815.968 1544.91 Q818.63 1542.16 823.213 1537.53 Q827.819 1532.88 829 1531.53 Q831.245 1529.01 832.125 1527.27 Q833.028 1525.51 833.028 1523.82 Q833.028 1521.07 831.083 1519.33 Q829.162 1517.6 826.06 1517.6 Q823.861 1517.6 821.407 1518.36 Q818.977 1519.13 816.199 1520.68 L816.199 1515.95 Q819.023 1514.82 821.477 1514.24 Q823.931 1513.66 825.968 1513.66 Q831.338 1513.66 834.532 1516.35 Q837.727 1519.03 837.727 1523.52 Q837.727 1525.65 836.917 1527.57 Q836.13 1529.47 834.023 1532.07 Q833.444 1532.74 830.343 1535.95 Q827.241 1539.15 821.593 1544.91 Z\" fill=\"#000000\" fill-rule=\"nonzero\" fill-opacity=\"1\" /><path clip-path=\"url(#clip650)\" d=\"M857.727 1517.37 Q854.116 1517.37 852.287 1520.93 Q850.481 1524.47 850.481 1531.6 Q850.481 1538.71 852.287 1542.27 Q854.116 1545.82 857.727 1545.82 Q861.361 1545.82 863.167 1542.27 Q864.995 1538.71 864.995 1531.6 Q864.995 1524.47 863.167 1520.93 Q861.361 1517.37 857.727 1517.37 M857.727 1513.66 Q863.537 1513.66 866.592 1518.27 Q869.671 1522.85 869.671 1531.6 Q869.671 1540.33 866.592 1544.94 Q863.537 1549.52 857.727 1549.52 Q851.917 1549.52 848.838 1544.94 Q845.782 1540.33 845.782 1531.6 Q845.782 1522.85 848.838 1518.27 Q851.917 1513.66 857.727 1513.66 Z\" fill=\"#000000\" fill-rule=\"nonzero\" fill-opacity=\"1\" /><path clip-path=\"url(#clip650)\" d=\"M1168.25 1530.21 Q1171.61 1530.93 1173.48 1533.2 Q1175.38 1535.47 1175.38 1538.8 Q1175.38 1543.92 1171.86 1546.72 Q1168.34 1549.52 1161.86 1549.52 Q1159.69 1549.52 1157.37 1549.08 Q1155.08 1548.66 1152.63 1547.81 L1152.63 1543.29 Q1154.57 1544.43 1156.88 1545.01 Q1159.2 1545.58 1161.72 1545.58 Q1166.12 1545.58 1168.41 1543.85 Q1170.73 1542.11 1170.73 1538.8 Q1170.73 1535.75 1168.57 1534.03 Q1166.45 1532.3 1162.63 1532.3 L1158.6 1532.3 L1158.6 1528.45 L1162.81 1528.45 Q1166.26 1528.45 1168.09 1527.09 Q1169.92 1525.7 1169.92 1523.11 Q1169.92 1520.45 1168.02 1519.03 Q1166.14 1517.6 1162.63 1517.6 Q1160.7 1517.6 1158.51 1518.01 Q1156.31 1518.43 1153.67 1519.31 L1153.67 1515.14 Q1156.33 1514.4 1158.64 1514.03 Q1160.98 1513.66 1163.04 1513.66 Q1168.37 1513.66 1171.47 1516.09 Q1174.57 1518.5 1174.57 1522.62 Q1174.57 1525.49 1172.93 1527.48 Q1171.28 1529.45 1168.25 1530.21 Z\" fill=\"#000000\" fill-rule=\"nonzero\" fill-opacity=\"1\" /><path clip-path=\"url(#clip650)\" d=\"M1194.25 1517.37 Q1190.63 1517.37 1188.81 1520.93 Q1187 1524.47 1187 1531.6 Q1187 1538.71 1188.81 1542.27 Q1190.63 1545.82 1194.25 1545.82 Q1197.88 1545.82 1199.69 1542.27 Q1201.51 1538.71 1201.51 1531.6 Q1201.51 1524.47 1199.69 1520.93 Q1197.88 1517.37 1194.25 1517.37 M1194.25 1513.66 Q1200.06 1513.66 1203.11 1518.27 Q1206.19 1522.85 1206.19 1531.6 Q1206.19 1540.33 1203.11 1544.94 Q1200.06 1549.52 1194.25 1549.52 Q1188.44 1549.52 1185.36 1544.94 Q1182.3 1540.33 1182.3 1531.6 Q1182.3 1522.85 1185.36 1518.27 Q1188.44 1513.66 1194.25 1513.66 Z\" fill=\"#000000\" fill-rule=\"nonzero\" fill-opacity=\"1\" /><path clip-path=\"url(#clip650)\" d=\"M1504.17 1518.36 L1492.36 1536.81 L1504.17 1536.81 L1504.17 1518.36 M1502.94 1514.29 L1508.82 1514.29 L1508.82 1536.81 L1513.75 1536.81 L1513.75 1540.7 L1508.82 1540.7 L1508.82 1548.85 L1504.17 1548.85 L1504.17 1540.7 L1488.57 1540.7 L1488.57 1536.19 L1502.94 1514.29 Z\" fill=\"#000000\" fill-rule=\"nonzero\" fill-opacity=\"1\" /><path clip-path=\"url(#clip650)\" d=\"M1531.48 1517.37 Q1527.87 1517.37 1526.04 1520.93 Q1524.24 1524.47 1524.24 1531.6 Q1524.24 1538.71 1526.04 1542.27 Q1527.87 1545.82 1531.48 1545.82 Q1535.12 1545.82 1536.92 1542.27 Q1538.75 1538.71 1538.75 1531.6 Q1538.75 1524.47 1536.92 1520.93 Q1535.12 1517.37 1531.48 1517.37 M1531.48 1513.66 Q1537.29 1513.66 1540.35 1518.27 Q1543.43 1522.85 1543.43 1531.6 Q1543.43 1540.33 1540.35 1544.94 Q1537.29 1549.52 1531.48 1549.52 Q1525.67 1549.52 1522.59 1544.94 Q1519.54 1540.33 1519.54 1531.6 Q1519.54 1522.85 1522.59 1518.27 Q1525.67 1513.66 1531.48 1513.66 Z\" fill=\"#000000\" fill-rule=\"nonzero\" fill-opacity=\"1\" /><path clip-path=\"url(#clip650)\" d=\"M1827.28 1514.29 L1845.64 1514.29 L1845.64 1518.22 L1831.57 1518.22 L1831.57 1526.7 Q1832.59 1526.35 1833.6 1526.19 Q1834.62 1526 1835.64 1526 Q1841.43 1526 1844.81 1529.17 Q1848.19 1532.34 1848.19 1537.76 Q1848.19 1543.34 1844.71 1546.44 Q1841.24 1549.52 1834.92 1549.52 Q1832.75 1549.52 1830.48 1549.15 Q1828.23 1548.78 1825.83 1548.04 L1825.83 1543.34 Q1827.91 1544.47 1830.13 1545.03 Q1832.35 1545.58 1834.83 1545.58 Q1838.84 1545.58 1841.17 1543.48 Q1843.51 1541.37 1843.51 1537.76 Q1843.51 1534.15 1841.17 1532.04 Q1838.84 1529.94 1834.83 1529.94 Q1832.96 1529.94 1831.08 1530.35 Q1829.23 1530.77 1827.28 1531.65 L1827.28 1514.29 Z\" fill=\"#000000\" fill-rule=\"nonzero\" fill-opacity=\"1\" /><path clip-path=\"url(#clip650)\" d=\"M1867.4 1517.37 Q1863.79 1517.37 1861.96 1520.93 Q1860.15 1524.47 1860.15 1531.6 Q1860.15 1538.71 1861.96 1542.27 Q1863.79 1545.82 1867.4 1545.82 Q1871.03 1545.82 1872.84 1542.27 Q1874.67 1538.71 1874.67 1531.6 Q1874.67 1524.47 1872.84 1520.93 Q1871.03 1517.37 1867.4 1517.37 M1867.4 1513.66 Q1873.21 1513.66 1876.27 1518.27 Q1879.34 1522.85 1879.34 1531.6 Q1879.34 1540.33 1876.27 1544.94 Q1873.21 1549.52 1867.4 1549.52 Q1861.59 1549.52 1858.51 1544.94 Q1855.46 1540.33 1855.46 1531.6 Q1855.46 1522.85 1858.51 1518.27 Q1861.59 1513.66 1867.4 1513.66 Z\" fill=\"#000000\" fill-rule=\"nonzero\" fill-opacity=\"1\" /><path clip-path=\"url(#clip650)\" d=\"M2174.58 1529.7 Q2171.43 1529.7 2169.58 1531.86 Q2167.75 1534.01 2167.75 1537.76 Q2167.75 1541.49 2169.58 1543.66 Q2171.43 1545.82 2174.58 1545.82 Q2177.73 1545.82 2179.56 1543.66 Q2181.41 1541.49 2181.41 1537.76 Q2181.41 1534.01 2179.56 1531.86 Q2177.73 1529.7 2174.58 1529.7 M2183.86 1515.05 L2183.86 1519.31 Q2182.1 1518.48 2180.3 1518.04 Q2178.51 1517.6 2176.75 1517.6 Q2172.13 1517.6 2169.67 1520.72 Q2167.24 1523.85 2166.89 1530.17 Q2168.26 1528.15 2170.32 1527.09 Q2172.38 1526 2174.86 1526 Q2180.07 1526 2183.07 1529.17 Q2186.11 1532.32 2186.11 1537.76 Q2186.11 1543.08 2182.96 1546.3 Q2179.81 1549.52 2174.58 1549.52 Q2168.58 1549.52 2165.41 1544.94 Q2162.24 1540.33 2162.24 1531.6 Q2162.24 1523.41 2166.13 1518.55 Q2170.02 1513.66 2176.57 1513.66 Q2178.33 1513.66 2180.11 1514.01 Q2181.92 1514.36 2183.86 1515.05 Z\" fill=\"#000000\" fill-rule=\"nonzero\" fill-opacity=\"1\" /><path clip-path=\"url(#clip650)\" d=\"M2204.16 1517.37 Q2200.55 1517.37 2198.72 1520.93 Q2196.92 1524.47 2196.92 1531.6 Q2196.92 1538.71 2198.72 1542.27 Q2200.55 1545.82 2204.16 1545.82 Q2207.8 1545.82 2209.6 1542.27 Q2211.43 1538.71 2211.43 1531.6 Q2211.43 1524.47 2209.6 1520.93 Q2207.8 1517.37 2204.16 1517.37 M2204.16 1513.66 Q2209.97 1513.66 2213.03 1518.27 Q2216.11 1522.85 2216.11 1531.6 Q2216.11 1540.33 2213.03 1544.94 Q2209.97 1549.52 2204.16 1549.52 Q2198.35 1549.52 2195.27 1544.94 Q2192.22 1540.33 2192.22 1531.6 Q2192.22 1522.85 2195.27 1518.27 Q2198.35 1513.66 2204.16 1513.66 Z\" fill=\"#000000\" fill-rule=\"nonzero\" fill-opacity=\"1\" /><polyline clip-path=\"url(#clip650)\" style=\"stroke:#000000; stroke-linecap:round; stroke-linejoin:round; stroke-width:4; stroke-opacity:1; fill:none\" points=\"140.696,1486.45 140.696,47.2441 \"/>\n",
       "<polyline clip-path=\"url(#clip650)\" style=\"stroke:#000000; stroke-linecap:round; stroke-linejoin:round; stroke-width:4; stroke-opacity:1; fill:none\" points=\"140.696,1445.72 159.593,1445.72 \"/>\n",
       "<polyline clip-path=\"url(#clip650)\" style=\"stroke:#000000; stroke-linecap:round; stroke-linejoin:round; stroke-width:4; stroke-opacity:1; fill:none\" points=\"140.696,995.926 159.593,995.926 \"/>\n",
       "<polyline clip-path=\"url(#clip650)\" style=\"stroke:#000000; stroke-linecap:round; stroke-linejoin:round; stroke-width:4; stroke-opacity:1; fill:none\" points=\"140.696,546.137 159.593,546.137 \"/>\n",
       "<polyline clip-path=\"url(#clip650)\" style=\"stroke:#000000; stroke-linecap:round; stroke-linejoin:round; stroke-width:4; stroke-opacity:1; fill:none\" points=\"140.696,96.3479 159.593,96.3479 \"/>\n",
       "<path clip-path=\"url(#clip650)\" d=\"M92.7512 1431.51 Q89.1401 1431.51 87.3114 1435.08 Q85.5058 1438.62 85.5058 1445.75 Q85.5058 1452.86 87.3114 1456.42 Q89.1401 1459.96 92.7512 1459.96 Q96.3854 1459.96 98.1909 1456.42 Q100.02 1452.86 100.02 1445.75 Q100.02 1438.62 98.1909 1435.08 Q96.3854 1431.51 92.7512 1431.51 M92.7512 1427.81 Q98.5613 1427.81 101.617 1432.42 Q104.696 1437 104.696 1445.75 Q104.696 1454.48 101.617 1459.08 Q98.5613 1463.67 92.7512 1463.67 Q86.941 1463.67 83.8623 1459.08 Q80.8068 1454.48 80.8068 1445.75 Q80.8068 1437 83.8623 1432.42 Q86.941 1427.81 92.7512 1427.81 Z\" fill=\"#000000\" fill-rule=\"nonzero\" fill-opacity=\"1\" /><path clip-path=\"url(#clip650)\" d=\"M53.3995 1009.27 L61.0384 1009.27 L61.0384 982.906 L52.7282 984.572 L52.7282 980.313 L60.9921 978.646 L65.668 978.646 L65.668 1009.27 L73.3068 1009.27 L73.3068 1013.21 L53.3995 1013.21 L53.3995 1009.27 Z\" fill=\"#000000\" fill-rule=\"nonzero\" fill-opacity=\"1\" /><path clip-path=\"url(#clip650)\" d=\"M92.7512 981.725 Q89.1401 981.725 87.3114 985.29 Q85.5058 988.832 85.5058 995.961 Q85.5058 1003.07 87.3114 1006.63 Q89.1401 1010.17 92.7512 1010.17 Q96.3854 1010.17 98.1909 1006.63 Q100.02 1003.07 100.02 995.961 Q100.02 988.832 98.1909 985.29 Q96.3854 981.725 92.7512 981.725 M92.7512 978.021 Q98.5613 978.021 101.617 982.628 Q104.696 987.211 104.696 995.961 Q104.696 1004.69 101.617 1009.29 Q98.5613 1013.88 92.7512 1013.88 Q86.941 1013.88 83.8623 1009.29 Q80.8068 1004.69 80.8068 995.961 Q80.8068 987.211 83.8623 982.628 Q86.941 978.021 92.7512 978.021 Z\" fill=\"#000000\" fill-rule=\"nonzero\" fill-opacity=\"1\" /><path clip-path=\"url(#clip650)\" d=\"M56.6171 559.482 L72.9365 559.482 L72.9365 563.417 L50.9921 563.417 L50.9921 559.482 Q53.6541 556.727 58.2375 552.098 Q62.8439 547.445 64.0245 546.102 Q66.2698 543.579 67.1494 541.843 Q68.0522 540.084 68.0522 538.394 Q68.0522 535.64 66.1078 533.903 Q64.1865 532.167 61.0847 532.167 Q58.8856 532.167 56.4319 532.931 Q54.0014 533.695 51.2236 535.246 L51.2236 530.524 Q54.0477 529.39 56.5014 528.811 Q58.955 528.232 60.9921 528.232 Q66.3624 528.232 69.5568 530.917 Q72.7513 533.602 72.7513 538.093 Q72.7513 540.223 71.9411 542.144 Q71.1541 544.042 69.0476 546.635 Q68.4689 547.306 65.367 550.524 Q62.2652 553.718 56.6171 559.482 Z\" fill=\"#000000\" fill-rule=\"nonzero\" fill-opacity=\"1\" /><path clip-path=\"url(#clip650)\" d=\"M92.7512 531.936 Q89.1401 531.936 87.3114 535.501 Q85.5058 539.042 85.5058 546.172 Q85.5058 553.278 87.3114 556.843 Q89.1401 560.385 92.7512 560.385 Q96.3854 560.385 98.1909 556.843 Q100.02 553.278 100.02 546.172 Q100.02 539.042 98.1909 535.501 Q96.3854 531.936 92.7512 531.936 M92.7512 528.232 Q98.5613 528.232 101.617 532.839 Q104.696 537.422 104.696 546.172 Q104.696 554.899 101.617 559.505 Q98.5613 564.088 92.7512 564.088 Q86.941 564.088 83.8623 559.505 Q80.8068 554.899 80.8068 546.172 Q80.8068 537.422 83.8623 532.839 Q86.941 528.232 92.7512 528.232 Z\" fill=\"#000000\" fill-rule=\"nonzero\" fill-opacity=\"1\" /><path clip-path=\"url(#clip650)\" d=\"M66.7559 94.9937 Q70.1124 95.7113 71.9874 97.9798 Q73.8855 100.248 73.8855 103.582 Q73.8855 108.697 70.367 111.498 Q66.8485 114.299 60.3671 114.299 Q58.1912 114.299 55.8764 113.859 Q53.5847 113.443 51.131 112.586 L51.131 108.072 Q53.0754 109.207 55.3903 109.785 Q57.7051 110.364 60.2282 110.364 Q64.6263 110.364 66.918 108.628 Q69.2328 106.892 69.2328 103.582 Q69.2328 100.526 67.08 98.8131 Q64.9504 97.077 61.131 97.077 L57.1032 97.077 L57.1032 93.2345 L61.3161 93.2345 Q64.7652 93.2345 66.5939 91.8687 Q68.4226 90.4799 68.4226 87.8873 Q68.4226 85.2253 66.5245 83.8132 Q64.6495 82.3781 61.131 82.3781 Q59.2097 82.3781 57.0106 82.7947 Q54.8115 83.2114 52.1727 84.091 L52.1727 79.9244 Q54.8347 79.1836 57.1495 78.8133 Q59.4875 78.4429 61.5476 78.4429 Q66.8717 78.4429 69.9735 80.8734 Q73.0753 83.2808 73.0753 87.4012 Q73.0753 90.2715 71.4318 92.2623 Q69.7883 94.2298 66.7559 94.9937 Z\" fill=\"#000000\" fill-rule=\"nonzero\" fill-opacity=\"1\" /><path clip-path=\"url(#clip650)\" d=\"M92.7512 82.1466 Q89.1401 82.1466 87.3114 85.7114 Q85.5058 89.253 85.5058 96.3826 Q85.5058 103.489 87.3114 107.054 Q89.1401 110.595 92.7512 110.595 Q96.3854 110.595 98.1909 107.054 Q100.02 103.489 100.02 96.3826 Q100.02 89.253 98.1909 85.7114 Q96.3854 82.1466 92.7512 82.1466 M92.7512 78.4429 Q98.5613 78.4429 101.617 83.0493 Q104.696 87.6327 104.696 96.3826 Q104.696 105.109 101.617 109.716 Q98.5613 114.299 92.7512 114.299 Q86.941 114.299 83.8623 109.716 Q80.8068 105.109 80.8068 96.3826 Q80.8068 87.6327 83.8623 83.0493 Q86.941 78.4429 92.7512 78.4429 Z\" fill=\"#000000\" fill-rule=\"nonzero\" fill-opacity=\"1\" /><polyline clip-path=\"url(#clip652)\" style=\"stroke:#009af9; stroke-linecap:round; stroke-linejoin:round; stroke-width:4; stroke-opacity:1; fill:none\" points=\"203.301,1445.72 236.96,1445.72 270.619,1445.72 304.278,1445.72 337.936,1400.74 371.595,1400.74 405.254,1400.74 438.913,1400.74 472.572,1355.76 506.231,1355.76 539.89,1355.76 573.548,1310.78 607.207,1310.78 640.866,1310.78 674.525,1310.78 708.184,1265.8 741.843,1265.8 775.502,1265.8 809.161,1265.8 842.819,1265.8 876.478,1265.8 910.137,1265.8 943.796,1265.8 977.455,1265.8 1011.11,1265.8 1044.77,1265.8 1078.43,1265.8 1112.09,1265.8 1145.75,1265.8 1179.41,1265.8 1213.07,1265.8 1246.73,1265.8 1280.38,1265.8 1314.04,1265.8 1347.7,1265.8 1381.36,1220.82 1415.02,1175.84 1448.68,1175.84 1482.34,1175.84 1516,1175.84 1549.66,1175.84 1583.31,1130.86 1616.97,1130.86 1650.63,1130.86 1684.29,1085.88 1717.95,1085.88 1751.61,1085.88 1785.27,1085.88 1818.93,1085.88 1852.59,1085.88 1886.24,1085.88 1919.9,1085.88 1953.56,1085.88 1987.22,1085.88 2020.88,1085.88 2054.54,1085.88 2088.2,1085.88 2121.86,1085.88 2155.51,1085.88 2189.17,1085.88 2222.83,1085.88 2256.49,1085.88 2290.15,1085.88 \"/>\n",
       "<polyline clip-path=\"url(#clip652)\" style=\"stroke:#e26f46; stroke-linecap:round; stroke-linejoin:round; stroke-width:4; stroke-opacity:1; fill:none\" points=\"203.301,951.572 236.96,951.572 270.619,951.572 304.278,951.572 337.936,843.622 371.595,843.622 405.254,843.622 438.913,843.622 472.572,735.673 506.231,735.673 539.89,627.723 573.548,627.723 607.207,627.723 640.866,627.723 674.525,627.723 708.184,519.774 741.843,519.774 775.502,519.774 809.161,519.774 842.819,519.774 876.478,519.774 910.137,519.774 943.796,519.774 977.455,519.774 1011.11,519.774 1044.77,519.774 1078.43,519.774 1112.09,519.774 1145.75,519.774 1179.41,519.774 1213.07,519.774 1246.73,519.774 1280.38,519.774 1314.04,519.774 1347.7,519.774 1381.36,411.825 1415.02,303.875 1448.68,303.875 1482.34,303.875 1516,303.875 1549.66,303.875 1583.31,195.926 1616.97,195.926 1650.63,195.926 1684.29,87.9763 1717.95,87.9763 1751.61,87.9763 1785.27,87.9763 1818.93,87.9763 1852.59,87.9763 1886.24,87.9763 1919.9,87.9763 1953.56,87.9763 1987.22,87.9763 2020.88,87.9763 2054.54,87.9763 2088.2,87.9763 2121.86,87.9763 2155.51,87.9763 2189.17,87.9763 2222.83,87.9763 2256.49,87.9763 2290.15,87.9763 \"/>\n",
       "<path clip-path=\"url(#clip650)\" d=\"M214.431 250.738 L488.067 250.738 L488.067 95.2176 L214.431 95.2176  Z\" fill=\"#ffffff\" fill-rule=\"evenodd\" fill-opacity=\"1\"/>\n",
       "<polyline clip-path=\"url(#clip650)\" style=\"stroke:#000000; stroke-linecap:round; stroke-linejoin:round; stroke-width:4; stroke-opacity:1; fill:none\" points=\"214.431,250.738 488.067,250.738 488.067,95.2176 214.431,95.2176 214.431,250.738 \"/>\n",
       "<polyline clip-path=\"url(#clip650)\" style=\"stroke:#009af9; stroke-linecap:round; stroke-linejoin:round; stroke-width:4; stroke-opacity:1; fill:none\" points=\"239.009,147.058 386.48,147.058 \"/>\n",
       "<path clip-path=\"url(#clip650)\" d=\"M424.901 166.745 Q423.095 171.375 421.382 172.787 Q419.67 174.199 416.799 174.199 L413.396 174.199 L413.396 170.634 L415.896 170.634 Q417.656 170.634 418.628 169.8 Q419.6 168.967 420.781 165.865 L421.545 163.921 L411.058 138.412 L415.572 138.412 L423.674 158.689 L431.776 138.412 L436.29 138.412 L424.901 166.745 Z\" fill=\"#000000\" fill-rule=\"nonzero\" fill-opacity=\"1\" /><path clip-path=\"url(#clip650)\" d=\"M443.581 160.402 L451.22 160.402 L451.22 134.037 L442.91 135.703 L442.91 131.444 L451.174 129.778 L455.85 129.778 L455.85 160.402 L463.489 160.402 L463.489 164.338 L443.581 164.338 L443.581 160.402 Z\" fill=\"#000000\" fill-rule=\"nonzero\" fill-opacity=\"1\" /><polyline clip-path=\"url(#clip650)\" style=\"stroke:#e26f46; stroke-linecap:round; stroke-linejoin:round; stroke-width:4; stroke-opacity:1; fill:none\" points=\"239.009,198.898 386.48,198.898 \"/>\n",
       "<path clip-path=\"url(#clip650)\" d=\"M424.901 218.585 Q423.095 223.215 421.382 224.627 Q419.67 226.039 416.799 226.039 L413.396 226.039 L413.396 222.474 L415.896 222.474 Q417.656 222.474 418.628 221.64 Q419.6 220.807 420.781 217.705 L421.545 215.761 L411.058 190.252 L415.572 190.252 L423.674 210.529 L431.776 190.252 L436.29 190.252 L424.901 218.585 Z\" fill=\"#000000\" fill-rule=\"nonzero\" fill-opacity=\"1\" /><path clip-path=\"url(#clip650)\" d=\"M446.799 212.242 L463.118 212.242 L463.118 216.178 L441.174 216.178 L441.174 212.242 Q443.836 209.488 448.419 204.858 Q453.026 200.205 454.206 198.863 Q456.452 196.34 457.331 194.604 Q458.234 192.844 458.234 191.155 Q458.234 188.4 456.29 186.664 Q454.368 184.928 451.267 184.928 Q449.068 184.928 446.614 185.692 Q444.183 186.455 441.406 188.006 L441.406 183.284 Q444.23 182.15 446.683 181.571 Q449.137 180.993 451.174 180.993 Q456.544 180.993 459.739 183.678 Q462.933 186.363 462.933 190.854 Q462.933 192.983 462.123 194.905 Q461.336 196.803 459.23 199.395 Q458.651 200.067 455.549 203.284 Q452.447 206.479 446.799 212.242 Z\" fill=\"#000000\" fill-rule=\"nonzero\" fill-opacity=\"1\" /></svg>\n"
      ],
      "text/html": [
       "<?xml version=\"1.0\" encoding=\"utf-8\"?>\n",
       "<svg xmlns=\"http://www.w3.org/2000/svg\" xmlns:xlink=\"http://www.w3.org/1999/xlink\" width=\"600\" height=\"400\" viewBox=\"0 0 2400 1600\">\n",
       "<defs>\n",
       "  <clipPath id=\"clip700\">\n",
       "    <rect x=\"0\" y=\"0\" width=\"2400\" height=\"1600\"/>\n",
       "  </clipPath>\n",
       "</defs>\n",
       "<path clip-path=\"url(#clip700)\" d=\"M0 1600 L2400 1600 L2400 8.88178e-14 L0 8.88178e-14  Z\" fill=\"#ffffff\" fill-rule=\"evenodd\" fill-opacity=\"1\"/>\n",
       "<defs>\n",
       "  <clipPath id=\"clip701\">\n",
       "    <rect x=\"480\" y=\"0\" width=\"1681\" height=\"1600\"/>\n",
       "  </clipPath>\n",
       "</defs>\n",
       "<path clip-path=\"url(#clip700)\" d=\"M140.696 1486.45 L2352.76 1486.45 L2352.76 47.2441 L140.696 47.2441  Z\" fill=\"#ffffff\" fill-rule=\"evenodd\" fill-opacity=\"1\"/>\n",
       "<defs>\n",
       "  <clipPath id=\"clip702\">\n",
       "    <rect x=\"140\" y=\"47\" width=\"2213\" height=\"1440\"/>\n",
       "  </clipPath>\n",
       "</defs>\n",
       "<polyline clip-path=\"url(#clip702)\" style=\"stroke:#000000; stroke-linecap:round; stroke-linejoin:round; stroke-width:2; stroke-opacity:0.1; fill:none\" points=\"169.642,1486.45 169.642,47.2441 \"/>\n",
       "<polyline clip-path=\"url(#clip702)\" style=\"stroke:#000000; stroke-linecap:round; stroke-linejoin:round; stroke-width:2; stroke-opacity:0.1; fill:none\" points=\"506.231,1486.45 506.231,47.2441 \"/>\n",
       "<polyline clip-path=\"url(#clip702)\" style=\"stroke:#000000; stroke-linecap:round; stroke-linejoin:round; stroke-width:2; stroke-opacity:0.1; fill:none\" points=\"842.819,1486.45 842.819,47.2441 \"/>\n",
       "<polyline clip-path=\"url(#clip702)\" style=\"stroke:#000000; stroke-linecap:round; stroke-linejoin:round; stroke-width:2; stroke-opacity:0.1; fill:none\" points=\"1179.41,1486.45 1179.41,47.2441 \"/>\n",
       "<polyline clip-path=\"url(#clip702)\" style=\"stroke:#000000; stroke-linecap:round; stroke-linejoin:round; stroke-width:2; stroke-opacity:0.1; fill:none\" points=\"1516,1486.45 1516,47.2441 \"/>\n",
       "<polyline clip-path=\"url(#clip702)\" style=\"stroke:#000000; stroke-linecap:round; stroke-linejoin:round; stroke-width:2; stroke-opacity:0.1; fill:none\" points=\"1852.59,1486.45 1852.59,47.2441 \"/>\n",
       "<polyline clip-path=\"url(#clip702)\" style=\"stroke:#000000; stroke-linecap:round; stroke-linejoin:round; stroke-width:2; stroke-opacity:0.1; fill:none\" points=\"2189.17,1486.45 2189.17,47.2441 \"/>\n",
       "<polyline clip-path=\"url(#clip702)\" style=\"stroke:#000000; stroke-linecap:round; stroke-linejoin:round; stroke-width:2; stroke-opacity:0.1; fill:none\" points=\"140.696,1445.72 2352.76,1445.72 \"/>\n",
       "<polyline clip-path=\"url(#clip702)\" style=\"stroke:#000000; stroke-linecap:round; stroke-linejoin:round; stroke-width:2; stroke-opacity:0.1; fill:none\" points=\"140.696,995.926 2352.76,995.926 \"/>\n",
       "<polyline clip-path=\"url(#clip702)\" style=\"stroke:#000000; stroke-linecap:round; stroke-linejoin:round; stroke-width:2; stroke-opacity:0.1; fill:none\" points=\"140.696,546.137 2352.76,546.137 \"/>\n",
       "<polyline clip-path=\"url(#clip702)\" style=\"stroke:#000000; stroke-linecap:round; stroke-linejoin:round; stroke-width:2; stroke-opacity:0.1; fill:none\" points=\"140.696,96.3479 2352.76,96.3479 \"/>\n",
       "<polyline clip-path=\"url(#clip700)\" style=\"stroke:#000000; stroke-linecap:round; stroke-linejoin:round; stroke-width:4; stroke-opacity:1; fill:none\" points=\"140.696,1486.45 2352.76,1486.45 \"/>\n",
       "<polyline clip-path=\"url(#clip700)\" style=\"stroke:#000000; stroke-linecap:round; stroke-linejoin:round; stroke-width:4; stroke-opacity:1; fill:none\" points=\"169.642,1486.45 169.642,1467.55 \"/>\n",
       "<polyline clip-path=\"url(#clip700)\" style=\"stroke:#000000; stroke-linecap:round; stroke-linejoin:round; stroke-width:4; stroke-opacity:1; fill:none\" points=\"506.231,1486.45 506.231,1467.55 \"/>\n",
       "<polyline clip-path=\"url(#clip700)\" style=\"stroke:#000000; stroke-linecap:round; stroke-linejoin:round; stroke-width:4; stroke-opacity:1; fill:none\" points=\"842.819,1486.45 842.819,1467.55 \"/>\n",
       "<polyline clip-path=\"url(#clip700)\" style=\"stroke:#000000; stroke-linecap:round; stroke-linejoin:round; stroke-width:4; stroke-opacity:1; fill:none\" points=\"1179.41,1486.45 1179.41,1467.55 \"/>\n",
       "<polyline clip-path=\"url(#clip700)\" style=\"stroke:#000000; stroke-linecap:round; stroke-linejoin:round; stroke-width:4; stroke-opacity:1; fill:none\" points=\"1516,1486.45 1516,1467.55 \"/>\n",
       "<polyline clip-path=\"url(#clip700)\" style=\"stroke:#000000; stroke-linecap:round; stroke-linejoin:round; stroke-width:4; stroke-opacity:1; fill:none\" points=\"1852.59,1486.45 1852.59,1467.55 \"/>\n",
       "<polyline clip-path=\"url(#clip700)\" style=\"stroke:#000000; stroke-linecap:round; stroke-linejoin:round; stroke-width:4; stroke-opacity:1; fill:none\" points=\"2189.17,1486.45 2189.17,1467.55 \"/>\n",
       "<path clip-path=\"url(#clip700)\" d=\"M169.642 1517.37 Q166.031 1517.37 164.202 1520.93 Q162.397 1524.47 162.397 1531.6 Q162.397 1538.71 164.202 1542.27 Q166.031 1545.82 169.642 1545.82 Q173.276 1545.82 175.082 1542.27 Q176.911 1538.71 176.911 1531.6 Q176.911 1524.47 175.082 1520.93 Q173.276 1517.37 169.642 1517.37 M169.642 1513.66 Q175.452 1513.66 178.508 1518.27 Q181.587 1522.85 181.587 1531.6 Q181.587 1540.33 178.508 1544.94 Q175.452 1549.52 169.642 1549.52 Q163.832 1549.52 160.753 1544.94 Q157.698 1540.33 157.698 1531.6 Q157.698 1522.85 160.753 1518.27 Q163.832 1513.66 169.642 1513.66 Z\" fill=\"#000000\" fill-rule=\"nonzero\" fill-opacity=\"1\" /><path clip-path=\"url(#clip700)\" d=\"M480.918 1544.91 L488.557 1544.91 L488.557 1518.55 L480.247 1520.21 L480.247 1515.95 L488.511 1514.29 L493.187 1514.29 L493.187 1544.91 L500.826 1544.91 L500.826 1548.85 L480.918 1548.85 L480.918 1544.91 Z\" fill=\"#000000\" fill-rule=\"nonzero\" fill-opacity=\"1\" /><path clip-path=\"url(#clip700)\" d=\"M520.27 1517.37 Q516.659 1517.37 514.83 1520.93 Q513.025 1524.47 513.025 1531.6 Q513.025 1538.71 514.83 1542.27 Q516.659 1545.82 520.27 1545.82 Q523.904 1545.82 525.71 1542.27 Q527.539 1538.71 527.539 1531.6 Q527.539 1524.47 525.71 1520.93 Q523.904 1517.37 520.27 1517.37 M520.27 1513.66 Q526.08 1513.66 529.136 1518.27 Q532.214 1522.85 532.214 1531.6 Q532.214 1540.33 529.136 1544.94 Q526.08 1549.52 520.27 1549.52 Q514.46 1549.52 511.381 1544.94 Q508.326 1540.33 508.326 1531.6 Q508.326 1522.85 511.381 1518.27 Q514.46 1513.66 520.27 1513.66 Z\" fill=\"#000000\" fill-rule=\"nonzero\" fill-opacity=\"1\" /><path clip-path=\"url(#clip700)\" d=\"M821.593 1544.91 L837.912 1544.91 L837.912 1548.85 L815.968 1548.85 L815.968 1544.91 Q818.63 1542.16 823.213 1537.53 Q827.819 1532.88 829 1531.53 Q831.245 1529.01 832.125 1527.27 Q833.028 1525.51 833.028 1523.82 Q833.028 1521.07 831.083 1519.33 Q829.162 1517.6 826.06 1517.6 Q823.861 1517.6 821.407 1518.36 Q818.977 1519.13 816.199 1520.68 L816.199 1515.95 Q819.023 1514.82 821.477 1514.24 Q823.931 1513.66 825.968 1513.66 Q831.338 1513.66 834.532 1516.35 Q837.727 1519.03 837.727 1523.52 Q837.727 1525.65 836.917 1527.57 Q836.13 1529.47 834.023 1532.07 Q833.444 1532.74 830.343 1535.95 Q827.241 1539.15 821.593 1544.91 Z\" fill=\"#000000\" fill-rule=\"nonzero\" fill-opacity=\"1\" /><path clip-path=\"url(#clip700)\" d=\"M857.727 1517.37 Q854.116 1517.37 852.287 1520.93 Q850.481 1524.47 850.481 1531.6 Q850.481 1538.71 852.287 1542.27 Q854.116 1545.82 857.727 1545.82 Q861.361 1545.82 863.167 1542.27 Q864.995 1538.71 864.995 1531.6 Q864.995 1524.47 863.167 1520.93 Q861.361 1517.37 857.727 1517.37 M857.727 1513.66 Q863.537 1513.66 866.592 1518.27 Q869.671 1522.85 869.671 1531.6 Q869.671 1540.33 866.592 1544.94 Q863.537 1549.52 857.727 1549.52 Q851.917 1549.52 848.838 1544.94 Q845.782 1540.33 845.782 1531.6 Q845.782 1522.85 848.838 1518.27 Q851.917 1513.66 857.727 1513.66 Z\" fill=\"#000000\" fill-rule=\"nonzero\" fill-opacity=\"1\" /><path clip-path=\"url(#clip700)\" d=\"M1168.25 1530.21 Q1171.61 1530.93 1173.48 1533.2 Q1175.38 1535.47 1175.38 1538.8 Q1175.38 1543.92 1171.86 1546.72 Q1168.34 1549.52 1161.86 1549.52 Q1159.69 1549.52 1157.37 1549.08 Q1155.08 1548.66 1152.63 1547.81 L1152.63 1543.29 Q1154.57 1544.43 1156.88 1545.01 Q1159.2 1545.58 1161.72 1545.58 Q1166.12 1545.58 1168.41 1543.85 Q1170.73 1542.11 1170.73 1538.8 Q1170.73 1535.75 1168.57 1534.03 Q1166.45 1532.3 1162.63 1532.3 L1158.6 1532.3 L1158.6 1528.45 L1162.81 1528.45 Q1166.26 1528.45 1168.09 1527.09 Q1169.92 1525.7 1169.92 1523.11 Q1169.92 1520.45 1168.02 1519.03 Q1166.14 1517.6 1162.63 1517.6 Q1160.7 1517.6 1158.51 1518.01 Q1156.31 1518.43 1153.67 1519.31 L1153.67 1515.14 Q1156.33 1514.4 1158.64 1514.03 Q1160.98 1513.66 1163.04 1513.66 Q1168.37 1513.66 1171.47 1516.09 Q1174.57 1518.5 1174.57 1522.62 Q1174.57 1525.49 1172.93 1527.48 Q1171.28 1529.45 1168.25 1530.21 Z\" fill=\"#000000\" fill-rule=\"nonzero\" fill-opacity=\"1\" /><path clip-path=\"url(#clip700)\" d=\"M1194.25 1517.37 Q1190.63 1517.37 1188.81 1520.93 Q1187 1524.47 1187 1531.6 Q1187 1538.71 1188.81 1542.27 Q1190.63 1545.82 1194.25 1545.82 Q1197.88 1545.82 1199.69 1542.27 Q1201.51 1538.71 1201.51 1531.6 Q1201.51 1524.47 1199.69 1520.93 Q1197.88 1517.37 1194.25 1517.37 M1194.25 1513.66 Q1200.06 1513.66 1203.11 1518.27 Q1206.19 1522.85 1206.19 1531.6 Q1206.19 1540.33 1203.11 1544.94 Q1200.06 1549.52 1194.25 1549.52 Q1188.44 1549.52 1185.36 1544.94 Q1182.3 1540.33 1182.3 1531.6 Q1182.3 1522.85 1185.36 1518.27 Q1188.44 1513.66 1194.25 1513.66 Z\" fill=\"#000000\" fill-rule=\"nonzero\" fill-opacity=\"1\" /><path clip-path=\"url(#clip700)\" d=\"M1504.17 1518.36 L1492.36 1536.81 L1504.17 1536.81 L1504.17 1518.36 M1502.94 1514.29 L1508.82 1514.29 L1508.82 1536.81 L1513.75 1536.81 L1513.75 1540.7 L1508.82 1540.7 L1508.82 1548.85 L1504.17 1548.85 L1504.17 1540.7 L1488.57 1540.7 L1488.57 1536.19 L1502.94 1514.29 Z\" fill=\"#000000\" fill-rule=\"nonzero\" fill-opacity=\"1\" /><path clip-path=\"url(#clip700)\" d=\"M1531.48 1517.37 Q1527.87 1517.37 1526.04 1520.93 Q1524.24 1524.47 1524.24 1531.6 Q1524.24 1538.71 1526.04 1542.27 Q1527.87 1545.82 1531.48 1545.82 Q1535.12 1545.82 1536.92 1542.27 Q1538.75 1538.71 1538.75 1531.6 Q1538.75 1524.47 1536.92 1520.93 Q1535.12 1517.37 1531.48 1517.37 M1531.48 1513.66 Q1537.29 1513.66 1540.35 1518.27 Q1543.43 1522.85 1543.43 1531.6 Q1543.43 1540.33 1540.35 1544.94 Q1537.29 1549.52 1531.48 1549.52 Q1525.67 1549.52 1522.59 1544.94 Q1519.54 1540.33 1519.54 1531.6 Q1519.54 1522.85 1522.59 1518.27 Q1525.67 1513.66 1531.48 1513.66 Z\" fill=\"#000000\" fill-rule=\"nonzero\" fill-opacity=\"1\" /><path clip-path=\"url(#clip700)\" d=\"M1827.28 1514.29 L1845.64 1514.29 L1845.64 1518.22 L1831.57 1518.22 L1831.57 1526.7 Q1832.59 1526.35 1833.6 1526.19 Q1834.62 1526 1835.64 1526 Q1841.43 1526 1844.81 1529.17 Q1848.19 1532.34 1848.19 1537.76 Q1848.19 1543.34 1844.71 1546.44 Q1841.24 1549.52 1834.92 1549.52 Q1832.75 1549.52 1830.48 1549.15 Q1828.23 1548.78 1825.83 1548.04 L1825.83 1543.34 Q1827.91 1544.47 1830.13 1545.03 Q1832.35 1545.58 1834.83 1545.58 Q1838.84 1545.58 1841.17 1543.48 Q1843.51 1541.37 1843.51 1537.76 Q1843.51 1534.15 1841.17 1532.04 Q1838.84 1529.94 1834.83 1529.94 Q1832.96 1529.94 1831.08 1530.35 Q1829.23 1530.77 1827.28 1531.65 L1827.28 1514.29 Z\" fill=\"#000000\" fill-rule=\"nonzero\" fill-opacity=\"1\" /><path clip-path=\"url(#clip700)\" d=\"M1867.4 1517.37 Q1863.79 1517.37 1861.96 1520.93 Q1860.15 1524.47 1860.15 1531.6 Q1860.15 1538.71 1861.96 1542.27 Q1863.79 1545.82 1867.4 1545.82 Q1871.03 1545.82 1872.84 1542.27 Q1874.67 1538.71 1874.67 1531.6 Q1874.67 1524.47 1872.84 1520.93 Q1871.03 1517.37 1867.4 1517.37 M1867.4 1513.66 Q1873.21 1513.66 1876.27 1518.27 Q1879.34 1522.85 1879.34 1531.6 Q1879.34 1540.33 1876.27 1544.94 Q1873.21 1549.52 1867.4 1549.52 Q1861.59 1549.52 1858.51 1544.94 Q1855.46 1540.33 1855.46 1531.6 Q1855.46 1522.85 1858.51 1518.27 Q1861.59 1513.66 1867.4 1513.66 Z\" fill=\"#000000\" fill-rule=\"nonzero\" fill-opacity=\"1\" /><path clip-path=\"url(#clip700)\" d=\"M2174.58 1529.7 Q2171.43 1529.7 2169.58 1531.86 Q2167.75 1534.01 2167.75 1537.76 Q2167.75 1541.49 2169.58 1543.66 Q2171.43 1545.82 2174.58 1545.82 Q2177.73 1545.82 2179.56 1543.66 Q2181.41 1541.49 2181.41 1537.76 Q2181.41 1534.01 2179.56 1531.86 Q2177.73 1529.7 2174.58 1529.7 M2183.86 1515.05 L2183.86 1519.31 Q2182.1 1518.48 2180.3 1518.04 Q2178.51 1517.6 2176.75 1517.6 Q2172.13 1517.6 2169.67 1520.72 Q2167.24 1523.85 2166.89 1530.17 Q2168.26 1528.15 2170.32 1527.09 Q2172.38 1526 2174.86 1526 Q2180.07 1526 2183.07 1529.17 Q2186.11 1532.32 2186.11 1537.76 Q2186.11 1543.08 2182.96 1546.3 Q2179.81 1549.52 2174.58 1549.52 Q2168.58 1549.52 2165.41 1544.94 Q2162.24 1540.33 2162.24 1531.6 Q2162.24 1523.41 2166.13 1518.55 Q2170.02 1513.66 2176.57 1513.66 Q2178.33 1513.66 2180.11 1514.01 Q2181.92 1514.36 2183.86 1515.05 Z\" fill=\"#000000\" fill-rule=\"nonzero\" fill-opacity=\"1\" /><path clip-path=\"url(#clip700)\" d=\"M2204.16 1517.37 Q2200.55 1517.37 2198.72 1520.93 Q2196.92 1524.47 2196.92 1531.6 Q2196.92 1538.71 2198.72 1542.27 Q2200.55 1545.82 2204.16 1545.82 Q2207.8 1545.82 2209.6 1542.27 Q2211.43 1538.71 2211.43 1531.6 Q2211.43 1524.47 2209.6 1520.93 Q2207.8 1517.37 2204.16 1517.37 M2204.16 1513.66 Q2209.97 1513.66 2213.03 1518.27 Q2216.11 1522.85 2216.11 1531.6 Q2216.11 1540.33 2213.03 1544.94 Q2209.97 1549.52 2204.16 1549.52 Q2198.35 1549.52 2195.27 1544.94 Q2192.22 1540.33 2192.22 1531.6 Q2192.22 1522.85 2195.27 1518.27 Q2198.35 1513.66 2204.16 1513.66 Z\" fill=\"#000000\" fill-rule=\"nonzero\" fill-opacity=\"1\" /><polyline clip-path=\"url(#clip700)\" style=\"stroke:#000000; stroke-linecap:round; stroke-linejoin:round; stroke-width:4; stroke-opacity:1; fill:none\" points=\"140.696,1486.45 140.696,47.2441 \"/>\n",
       "<polyline clip-path=\"url(#clip700)\" style=\"stroke:#000000; stroke-linecap:round; stroke-linejoin:round; stroke-width:4; stroke-opacity:1; fill:none\" points=\"140.696,1445.72 159.593,1445.72 \"/>\n",
       "<polyline clip-path=\"url(#clip700)\" style=\"stroke:#000000; stroke-linecap:round; stroke-linejoin:round; stroke-width:4; stroke-opacity:1; fill:none\" points=\"140.696,995.926 159.593,995.926 \"/>\n",
       "<polyline clip-path=\"url(#clip700)\" style=\"stroke:#000000; stroke-linecap:round; stroke-linejoin:round; stroke-width:4; stroke-opacity:1; fill:none\" points=\"140.696,546.137 159.593,546.137 \"/>\n",
       "<polyline clip-path=\"url(#clip700)\" style=\"stroke:#000000; stroke-linecap:round; stroke-linejoin:round; stroke-width:4; stroke-opacity:1; fill:none\" points=\"140.696,96.3479 159.593,96.3479 \"/>\n",
       "<path clip-path=\"url(#clip700)\" d=\"M92.7512 1431.51 Q89.1401 1431.51 87.3114 1435.08 Q85.5058 1438.62 85.5058 1445.75 Q85.5058 1452.86 87.3114 1456.42 Q89.1401 1459.96 92.7512 1459.96 Q96.3854 1459.96 98.1909 1456.42 Q100.02 1452.86 100.02 1445.75 Q100.02 1438.62 98.1909 1435.08 Q96.3854 1431.51 92.7512 1431.51 M92.7512 1427.81 Q98.5613 1427.81 101.617 1432.42 Q104.696 1437 104.696 1445.75 Q104.696 1454.48 101.617 1459.08 Q98.5613 1463.67 92.7512 1463.67 Q86.941 1463.67 83.8623 1459.08 Q80.8068 1454.48 80.8068 1445.75 Q80.8068 1437 83.8623 1432.42 Q86.941 1427.81 92.7512 1427.81 Z\" fill=\"#000000\" fill-rule=\"nonzero\" fill-opacity=\"1\" /><path clip-path=\"url(#clip700)\" d=\"M53.3995 1009.27 L61.0384 1009.27 L61.0384 982.906 L52.7282 984.572 L52.7282 980.313 L60.9921 978.646 L65.668 978.646 L65.668 1009.27 L73.3068 1009.27 L73.3068 1013.21 L53.3995 1013.21 L53.3995 1009.27 Z\" fill=\"#000000\" fill-rule=\"nonzero\" fill-opacity=\"1\" /><path clip-path=\"url(#clip700)\" d=\"M92.7512 981.725 Q89.1401 981.725 87.3114 985.29 Q85.5058 988.832 85.5058 995.961 Q85.5058 1003.07 87.3114 1006.63 Q89.1401 1010.17 92.7512 1010.17 Q96.3854 1010.17 98.1909 1006.63 Q100.02 1003.07 100.02 995.961 Q100.02 988.832 98.1909 985.29 Q96.3854 981.725 92.7512 981.725 M92.7512 978.021 Q98.5613 978.021 101.617 982.628 Q104.696 987.211 104.696 995.961 Q104.696 1004.69 101.617 1009.29 Q98.5613 1013.88 92.7512 1013.88 Q86.941 1013.88 83.8623 1009.29 Q80.8068 1004.69 80.8068 995.961 Q80.8068 987.211 83.8623 982.628 Q86.941 978.021 92.7512 978.021 Z\" fill=\"#000000\" fill-rule=\"nonzero\" fill-opacity=\"1\" /><path clip-path=\"url(#clip700)\" d=\"M56.6171 559.482 L72.9365 559.482 L72.9365 563.417 L50.9921 563.417 L50.9921 559.482 Q53.6541 556.727 58.2375 552.098 Q62.8439 547.445 64.0245 546.102 Q66.2698 543.579 67.1494 541.843 Q68.0522 540.084 68.0522 538.394 Q68.0522 535.64 66.1078 533.903 Q64.1865 532.167 61.0847 532.167 Q58.8856 532.167 56.4319 532.931 Q54.0014 533.695 51.2236 535.246 L51.2236 530.524 Q54.0477 529.39 56.5014 528.811 Q58.955 528.232 60.9921 528.232 Q66.3624 528.232 69.5568 530.917 Q72.7513 533.602 72.7513 538.093 Q72.7513 540.223 71.9411 542.144 Q71.1541 544.042 69.0476 546.635 Q68.4689 547.306 65.367 550.524 Q62.2652 553.718 56.6171 559.482 Z\" fill=\"#000000\" fill-rule=\"nonzero\" fill-opacity=\"1\" /><path clip-path=\"url(#clip700)\" d=\"M92.7512 531.936 Q89.1401 531.936 87.3114 535.501 Q85.5058 539.042 85.5058 546.172 Q85.5058 553.278 87.3114 556.843 Q89.1401 560.385 92.7512 560.385 Q96.3854 560.385 98.1909 556.843 Q100.02 553.278 100.02 546.172 Q100.02 539.042 98.1909 535.501 Q96.3854 531.936 92.7512 531.936 M92.7512 528.232 Q98.5613 528.232 101.617 532.839 Q104.696 537.422 104.696 546.172 Q104.696 554.899 101.617 559.505 Q98.5613 564.088 92.7512 564.088 Q86.941 564.088 83.8623 559.505 Q80.8068 554.899 80.8068 546.172 Q80.8068 537.422 83.8623 532.839 Q86.941 528.232 92.7512 528.232 Z\" fill=\"#000000\" fill-rule=\"nonzero\" fill-opacity=\"1\" /><path clip-path=\"url(#clip700)\" d=\"M66.7559 94.9937 Q70.1124 95.7113 71.9874 97.9798 Q73.8855 100.248 73.8855 103.582 Q73.8855 108.697 70.367 111.498 Q66.8485 114.299 60.3671 114.299 Q58.1912 114.299 55.8764 113.859 Q53.5847 113.443 51.131 112.586 L51.131 108.072 Q53.0754 109.207 55.3903 109.785 Q57.7051 110.364 60.2282 110.364 Q64.6263 110.364 66.918 108.628 Q69.2328 106.892 69.2328 103.582 Q69.2328 100.526 67.08 98.8131 Q64.9504 97.077 61.131 97.077 L57.1032 97.077 L57.1032 93.2345 L61.3161 93.2345 Q64.7652 93.2345 66.5939 91.8687 Q68.4226 90.4799 68.4226 87.8873 Q68.4226 85.2253 66.5245 83.8132 Q64.6495 82.3781 61.131 82.3781 Q59.2097 82.3781 57.0106 82.7947 Q54.8115 83.2114 52.1727 84.091 L52.1727 79.9244 Q54.8347 79.1836 57.1495 78.8133 Q59.4875 78.4429 61.5476 78.4429 Q66.8717 78.4429 69.9735 80.8734 Q73.0753 83.2808 73.0753 87.4012 Q73.0753 90.2715 71.4318 92.2623 Q69.7883 94.2298 66.7559 94.9937 Z\" fill=\"#000000\" fill-rule=\"nonzero\" fill-opacity=\"1\" /><path clip-path=\"url(#clip700)\" d=\"M92.7512 82.1466 Q89.1401 82.1466 87.3114 85.7114 Q85.5058 89.253 85.5058 96.3826 Q85.5058 103.489 87.3114 107.054 Q89.1401 110.595 92.7512 110.595 Q96.3854 110.595 98.1909 107.054 Q100.02 103.489 100.02 96.3826 Q100.02 89.253 98.1909 85.7114 Q96.3854 82.1466 92.7512 82.1466 M92.7512 78.4429 Q98.5613 78.4429 101.617 83.0493 Q104.696 87.6327 104.696 96.3826 Q104.696 105.109 101.617 109.716 Q98.5613 114.299 92.7512 114.299 Q86.941 114.299 83.8623 109.716 Q80.8068 105.109 80.8068 96.3826 Q80.8068 87.6327 83.8623 83.0493 Q86.941 78.4429 92.7512 78.4429 Z\" fill=\"#000000\" fill-rule=\"nonzero\" fill-opacity=\"1\" /><polyline clip-path=\"url(#clip702)\" style=\"stroke:#009af9; stroke-linecap:round; stroke-linejoin:round; stroke-width:4; stroke-opacity:1; fill:none\" points=\"203.301,1445.72 236.96,1445.72 270.619,1445.72 304.278,1445.72 337.936,1400.74 371.595,1400.74 405.254,1400.74 438.913,1400.74 472.572,1355.76 506.231,1355.76 539.89,1355.76 573.548,1310.78 607.207,1310.78 640.866,1310.78 674.525,1310.78 708.184,1265.8 741.843,1265.8 775.502,1265.8 809.161,1265.8 842.819,1265.8 876.478,1265.8 910.137,1265.8 943.796,1265.8 977.455,1265.8 1011.11,1265.8 1044.77,1265.8 1078.43,1265.8 1112.09,1265.8 1145.75,1265.8 1179.41,1265.8 1213.07,1265.8 1246.73,1265.8 1280.38,1265.8 1314.04,1265.8 1347.7,1265.8 1381.36,1220.82 1415.02,1175.84 1448.68,1175.84 1482.34,1175.84 1516,1175.84 1549.66,1175.84 1583.31,1130.86 1616.97,1130.86 1650.63,1130.86 1684.29,1085.88 1717.95,1085.88 1751.61,1085.88 1785.27,1085.88 1818.93,1085.88 1852.59,1085.88 1886.24,1085.88 1919.9,1085.88 1953.56,1085.88 1987.22,1085.88 2020.88,1085.88 2054.54,1085.88 2088.2,1085.88 2121.86,1085.88 2155.51,1085.88 2189.17,1085.88 2222.83,1085.88 2256.49,1085.88 2290.15,1085.88 \"/>\n",
       "<polyline clip-path=\"url(#clip702)\" style=\"stroke:#e26f46; stroke-linecap:round; stroke-linejoin:round; stroke-width:4; stroke-opacity:1; fill:none\" points=\"203.301,951.572 236.96,951.572 270.619,951.572 304.278,951.572 337.936,843.622 371.595,843.622 405.254,843.622 438.913,843.622 472.572,735.673 506.231,735.673 539.89,627.723 573.548,627.723 607.207,627.723 640.866,627.723 674.525,627.723 708.184,519.774 741.843,519.774 775.502,519.774 809.161,519.774 842.819,519.774 876.478,519.774 910.137,519.774 943.796,519.774 977.455,519.774 1011.11,519.774 1044.77,519.774 1078.43,519.774 1112.09,519.774 1145.75,519.774 1179.41,519.774 1213.07,519.774 1246.73,519.774 1280.38,519.774 1314.04,519.774 1347.7,519.774 1381.36,411.825 1415.02,303.875 1448.68,303.875 1482.34,303.875 1516,303.875 1549.66,303.875 1583.31,195.926 1616.97,195.926 1650.63,195.926 1684.29,87.9763 1717.95,87.9763 1751.61,87.9763 1785.27,87.9763 1818.93,87.9763 1852.59,87.9763 1886.24,87.9763 1919.9,87.9763 1953.56,87.9763 1987.22,87.9763 2020.88,87.9763 2054.54,87.9763 2088.2,87.9763 2121.86,87.9763 2155.51,87.9763 2189.17,87.9763 2222.83,87.9763 2256.49,87.9763 2290.15,87.9763 \"/>\n",
       "<path clip-path=\"url(#clip700)\" d=\"M214.431 250.738 L488.067 250.738 L488.067 95.2176 L214.431 95.2176  Z\" fill=\"#ffffff\" fill-rule=\"evenodd\" fill-opacity=\"1\"/>\n",
       "<polyline clip-path=\"url(#clip700)\" style=\"stroke:#000000; stroke-linecap:round; stroke-linejoin:round; stroke-width:4; stroke-opacity:1; fill:none\" points=\"214.431,250.738 488.067,250.738 488.067,95.2176 214.431,95.2176 214.431,250.738 \"/>\n",
       "<polyline clip-path=\"url(#clip700)\" style=\"stroke:#009af9; stroke-linecap:round; stroke-linejoin:round; stroke-width:4; stroke-opacity:1; fill:none\" points=\"239.009,147.058 386.48,147.058 \"/>\n",
       "<path clip-path=\"url(#clip700)\" d=\"M424.901 166.745 Q423.095 171.375 421.382 172.787 Q419.67 174.199 416.799 174.199 L413.396 174.199 L413.396 170.634 L415.896 170.634 Q417.656 170.634 418.628 169.8 Q419.6 168.967 420.781 165.865 L421.545 163.921 L411.058 138.412 L415.572 138.412 L423.674 158.689 L431.776 138.412 L436.29 138.412 L424.901 166.745 Z\" fill=\"#000000\" fill-rule=\"nonzero\" fill-opacity=\"1\" /><path clip-path=\"url(#clip700)\" d=\"M443.581 160.402 L451.22 160.402 L451.22 134.037 L442.91 135.703 L442.91 131.444 L451.174 129.778 L455.85 129.778 L455.85 160.402 L463.489 160.402 L463.489 164.338 L443.581 164.338 L443.581 160.402 Z\" fill=\"#000000\" fill-rule=\"nonzero\" fill-opacity=\"1\" /><polyline clip-path=\"url(#clip700)\" style=\"stroke:#e26f46; stroke-linecap:round; stroke-linejoin:round; stroke-width:4; stroke-opacity:1; fill:none\" points=\"239.009,198.898 386.48,198.898 \"/>\n",
       "<path clip-path=\"url(#clip700)\" d=\"M424.901 218.585 Q423.095 223.215 421.382 224.627 Q419.67 226.039 416.799 226.039 L413.396 226.039 L413.396 222.474 L415.896 222.474 Q417.656 222.474 418.628 221.64 Q419.6 220.807 420.781 217.705 L421.545 215.761 L411.058 190.252 L415.572 190.252 L423.674 210.529 L431.776 190.252 L436.29 190.252 L424.901 218.585 Z\" fill=\"#000000\" fill-rule=\"nonzero\" fill-opacity=\"1\" /><path clip-path=\"url(#clip700)\" d=\"M446.799 212.242 L463.118 212.242 L463.118 216.178 L441.174 216.178 L441.174 212.242 Q443.836 209.488 448.419 204.858 Q453.026 200.205 454.206 198.863 Q456.452 196.34 457.331 194.604 Q458.234 192.844 458.234 191.155 Q458.234 188.4 456.29 186.664 Q454.368 184.928 451.267 184.928 Q449.068 184.928 446.614 185.692 Q444.183 186.455 441.406 188.006 L441.406 183.284 Q444.23 182.15 446.683 181.571 Q449.137 180.993 451.174 180.993 Q456.544 180.993 459.739 183.678 Q462.933 186.363 462.933 190.854 Q462.933 192.983 462.123 194.905 Q461.336 196.803 459.23 199.395 Q458.651 200.067 455.549 203.284 Q452.447 206.479 446.799 212.242 Z\" fill=\"#000000\" fill-rule=\"nonzero\" fill-opacity=\"1\" /></svg>\n"
      ]
     },
     "execution_count": 39,
     "metadata": {},
     "output_type": "execute_result"
    }
   ],
   "source": [
    "plot(L)\n",
    "plot!(R)"
   ]
  },
  {
   "cell_type": "code",
   "execution_count": null,
   "id": "e3006b95-0b5d-47eb-bec5-39af70c1206b",
   "metadata": {},
   "outputs": [],
   "source": []
  }
 ],
 "metadata": {
  "kernelspec": {
   "display_name": "Julia 1.11.3",
   "language": "julia",
   "name": "julia-1.11"
  },
  "language_info": {
   "file_extension": ".jl",
   "mimetype": "application/julia",
   "name": "julia",
   "version": "1.11.3"
  }
 },
 "nbformat": 4,
 "nbformat_minor": 5
}
